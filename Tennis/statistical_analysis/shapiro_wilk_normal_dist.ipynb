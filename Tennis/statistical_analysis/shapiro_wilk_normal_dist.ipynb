{
 "cells": [
  {
   "cell_type": "code",
   "execution_count": 1,
   "metadata": {},
   "outputs": [
    {
     "name": "stdout",
     "output_type": "stream",
     "text": [
      "Shapiro-Wilk Test Statistic: 0.7981575727462769, p-value: 0.0\n",
      "The data does not appear to be normally distributed.\n"
     ]
    },
    {
     "name": "stderr",
     "output_type": "stream",
     "text": [
      "C:\\Users\\Carlo\\AppData\\Local\\Packages\\PythonSoftwareFoundation.Python.3.11_qbz5n2kfra8p0\\LocalCache\\local-packages\\Python311\\site-packages\\scipy\\stats\\_morestats.py:1882: UserWarning: p-value may not be accurate for N > 5000.\n",
      "  warnings.warn(\"p-value may not be accurate for N > 5000.\")\n"
     ]
    }
   ],
   "source": [
    "from scipy.stats import shapiro\n",
    "import pandas as pd\n",
    "\n",
    "df = pd.read_csv(r\"C:\\Users\\Carlo\\Repos\\TrainingsTool\\Tennis\\ML_Stuff\\data_analysis_stuff\\mcts_uct_uct_vs_average_101_99_with_rally_length.csv\", encoding = 'unicode_escape', low_memory=False)\n",
    "\n",
    "stat, p_value = shapiro(df['Ralley_Length'])\n",
    "print(f'Shapiro-Wilk Test Statistic: {stat}, p-value: {p_value}')\n",
    "\n",
    "# Interpret the p-value\n",
    "if p_value > 0.05:\n",
    "    print('The data appears to be normally distributed.')\n",
    "else:\n",
    "    print('The data does not appear to be normally distributed.')"
   ]
  },
  {
   "cell_type": "code",
   "execution_count": 2,
   "metadata": {},
   "outputs": [
    {
     "name": "stdout",
     "output_type": "stream",
     "text": [
      "IQR: 4.0, MAD: 2.0\n"
     ]
    }
   ],
   "source": [
    "import numpy as np\n",
    "\n",
    "# Assuming 'data' is your right-skewed data\n",
    "data = df['Ralley_Length']\n",
    "\n",
    "# Calculate IQR\n",
    "Q1 = np.percentile(data, 25)\n",
    "Q3 = np.percentile(data, 75)\n",
    "IQR = Q3 - Q1\n",
    "\n",
    "# Calculate MAD\n",
    "median = np.median(data)\n",
    "mad = np.median(np.abs(data - median))\n",
    "\n",
    "print(f\"IQR: {IQR}, MAD: {mad}\")"
   ]
  },
  {
   "cell_type": "code",
   "execution_count": 3,
   "metadata": {},
   "outputs": [
    {
     "name": "stdout",
     "output_type": "stream",
     "text": [
      "{4.0}\n"
     ]
    }
   ],
   "source": [
    "print({median})"
   ]
  },
  {
   "cell_type": "code",
   "execution_count": null,
   "metadata": {},
   "outputs": [],
   "source": [
    "#Interquartile Range (IQR):\n",
    "\n",
    "#The IQR is a measure of statistical dispersion that represents the range within which the central 50% of your data falls. In your case, the IQR of 4.0 indicates that the middle 50% of your 'Ralley_Length' data values fall within a range of 4.0 units.\n",
    "#Median Absolute Deviation (MAD):\n",
    "\n",
    "#The MAD is a robust measure of the spread of your data that uses the median. A MAD of 2.0 suggests that, on average, the absolute difference between each 'Ralley_Length' value and the median of the data is 2.0 units."
   ]
  }
 ],
 "metadata": {
  "kernelspec": {
   "display_name": "Python 3",
   "language": "python",
   "name": "python3"
  },
  "language_info": {
   "codemirror_mode": {
    "name": "ipython",
    "version": 3
   },
   "file_extension": ".py",
   "mimetype": "text/x-python",
   "name": "python",
   "nbconvert_exporter": "python",
   "pygments_lexer": "ipython3",
   "version": "3.11.7"
  }
 },
 "nbformat": 4,
 "nbformat_minor": 2
}
