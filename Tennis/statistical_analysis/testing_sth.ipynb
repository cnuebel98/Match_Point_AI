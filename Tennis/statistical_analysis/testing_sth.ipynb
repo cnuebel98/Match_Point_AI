{
 "cells": [
  {
   "cell_type": "code",
   "execution_count": 1,
   "metadata": {},
   "outputs": [
    {
     "name": "stdout",
     "output_type": "stream",
     "text": [
      "Chi-squared statistic: 269.8220745200081\n",
      "P-value: 1.240758850695736e-60\n",
      "Degrees of freedom: 1\n",
      "Expected frequencies:\n",
      "[[95261.84378842 93152.15621158]\n",
      " [96780.15621158 94636.84378842]]\n"
     ]
    }
   ],
   "source": [
    "import numpy as np\n",
    "from scipy.stats import chi2_contingency\n",
    "\n",
    "# Given contingency table\n",
    "observed_data = np.array([[97793, 90621],\n",
    "                          [94249, 97168]])\n",
    "\n",
    "# Perform chi-squared test\n",
    "chi2, p, dof, expected = chi2_contingency(observed_data)\n",
    "\n",
    "# Print results\n",
    "print(f\"Chi-squared statistic: {chi2}\")\n",
    "print(f\"P-value: {p}\")\n",
    "print(f\"Degrees of freedom: {dof}\")\n",
    "print(\"Expected frequencies:\")\n",
    "print(expected)"
   ]
  },
  {
   "cell_type": "code",
   "execution_count": 2,
   "metadata": {},
   "outputs": [
    {
     "name": "stdout",
     "output_type": "stream",
     "text": [
      "Cramer's V: 0.026652842631521435\n"
     ]
    }
   ],
   "source": [
    "import numpy as np\n",
    "from scipy.stats import chi2_contingency\n",
    "\n",
    "# Given contingency table\n",
    "observed_data = np.array([[97793, 90621],\n",
    "                          [94249, 97168]])\n",
    "\n",
    "# Perform chi-squared test\n",
    "chi2, _, _, _ = chi2_contingency(observed_data)\n",
    "\n",
    "# Calculate Cramer's V\n",
    "n = np.sum(observed_data)\n",
    "min_dim = min(observed_data.shape)\n",
    "v = np.sqrt(chi2 / (n * (min_dim - 1)))\n",
    "\n",
    "# Print Cramer's V\n",
    "print(f\"Cramer's V: {v}\")"
   ]
  }
 ],
 "metadata": {
  "kernelspec": {
   "display_name": "Python 3",
   "language": "python",
   "name": "python3"
  },
  "language_info": {
   "codemirror_mode": {
    "name": "ipython",
    "version": 3
   },
   "file_extension": ".py",
   "mimetype": "text/x-python",
   "name": "python",
   "nbconvert_exporter": "python",
   "pygments_lexer": "ipython3",
   "version": "3.11.7"
  }
 },
 "nbformat": 4,
 "nbformat_minor": 2
}
