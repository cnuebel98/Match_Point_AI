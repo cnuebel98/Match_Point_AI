{
 "cells": [
  {
   "cell_type": "code",
   "execution_count": 1,
   "metadata": {},
   "outputs": [],
   "source": [
    "import pandas as pd\n",
    "import ast"
   ]
  },
  {
   "cell_type": "code",
   "execution_count": 5,
   "metadata": {},
   "outputs": [
    {
     "data": {
      "text/html": [
       "<div>\n",
       "<style scoped>\n",
       "    .dataframe tbody tr th:only-of-type {\n",
       "        vertical-align: middle;\n",
       "    }\n",
       "\n",
       "    .dataframe tbody tr th {\n",
       "        vertical-align: top;\n",
       "    }\n",
       "\n",
       "    .dataframe thead th {\n",
       "        text-align: right;\n",
       "    }\n",
       "</style>\n",
       "<table border=\"1\" class=\"dataframe\">\n",
       "  <thead>\n",
       "    <tr style=\"text-align: right;\">\n",
       "      <th></th>\n",
       "      <th>processed_values</th>\n",
       "    </tr>\n",
       "  </thead>\n",
       "  <tbody>\n",
       "    <tr>\n",
       "      <th>0</th>\n",
       "      <td>[\"4n,\",\"4\",\"f18\",\"f3\",\"s2\",\"f1\",\"f3\",\"b3n@\"]</td>\n",
       "    </tr>\n",
       "    <tr>\n",
       "      <th>1</th>\n",
       "      <td>[\"4n,\",\"6\",\"f2n#\"]</td>\n",
       "    </tr>\n",
       "    <tr>\n",
       "      <th>2</th>\n",
       "      <td>[\"4*,\"]</td>\n",
       "    </tr>\n",
       "    <tr>\n",
       "      <th>3</th>\n",
       "      <td>[\"4n,\",\"5\",\"b3n@\"]</td>\n",
       "    </tr>\n",
       "    <tr>\n",
       "      <th>4</th>\n",
       "      <td>[\"4\",\"r28\",\"f1\",\"r2\",\"f3\",\"b3\",\"f2\",\"f1\",\"f1\",...</td>\n",
       "    </tr>\n",
       "    <tr>\n",
       "      <th>...</th>\n",
       "      <td>...</td>\n",
       "    </tr>\n",
       "    <tr>\n",
       "      <th>19319</th>\n",
       "      <td>[\"6\",\"f38\",\"b3\",\"b3\",\"b2\",\"f3\",\"b3\",\"s3\",\"f3\",...</td>\n",
       "    </tr>\n",
       "    <tr>\n",
       "      <th>19320</th>\n",
       "      <td>[\"6w,\",\"5\",\"b39\",\"b2\",\"b2\",\"f3\",\"b3\",\"b3\",\"s3\"...</td>\n",
       "    </tr>\n",
       "    <tr>\n",
       "      <th>19321</th>\n",
       "      <td>[\"4\",\"b39\",\"b3\",\"b3n@\"]</td>\n",
       "    </tr>\n",
       "    <tr>\n",
       "      <th>19322</th>\n",
       "      <td>[\"4d,\",\"4\",\"f19\",\"f3\",\"b3\",\"b3\",\"b1\",\"f2\",\"b3\"...</td>\n",
       "    </tr>\n",
       "    <tr>\n",
       "      <th>19323</th>\n",
       "      <td>[\"6n,\",\"5\",\"f39\",\"b2\",\"f3\",\"b1\",\"f1\",\"f1\",\"f2\"...</td>\n",
       "    </tr>\n",
       "  </tbody>\n",
       "</table>\n",
       "<p>19324 rows × 1 columns</p>\n",
       "</div>"
      ],
      "text/plain": [
       "                                        processed_values\n",
       "0           [\"4n,\",\"4\",\"f18\",\"f3\",\"s2\",\"f1\",\"f3\",\"b3n@\"]\n",
       "1                                     [\"4n,\",\"6\",\"f2n#\"]\n",
       "2                                                [\"4*,\"]\n",
       "3                                     [\"4n,\",\"5\",\"b3n@\"]\n",
       "4      [\"4\",\"r28\",\"f1\",\"r2\",\"f3\",\"b3\",\"f2\",\"f1\",\"f1\",...\n",
       "...                                                  ...\n",
       "19319  [\"6\",\"f38\",\"b3\",\"b3\",\"b2\",\"f3\",\"b3\",\"s3\",\"f3\",...\n",
       "19320  [\"6w,\",\"5\",\"b39\",\"b2\",\"b2\",\"f3\",\"b3\",\"b3\",\"s3\"...\n",
       "19321                            [\"4\",\"b39\",\"b3\",\"b3n@\"]\n",
       "19322  [\"4d,\",\"4\",\"f19\",\"f3\",\"b3\",\"b3\",\"b1\",\"f2\",\"b3\"...\n",
       "19323  [\"6n,\",\"5\",\"f39\",\"b2\",\"f3\",\"b1\",\"f1\",\"f1\",\"f2\"...\n",
       "\n",
       "[19324 rows x 1 columns]"
      ]
     },
     "execution_count": 5,
     "metadata": {},
     "output_type": "execute_result"
    }
   ],
   "source": [
    "df = pd.read_csv(r\"C:\\Users\\Carlo\\Repos\\TrainingsTool\\Tennis\\Datasets\\djoko_rallys_19k.csv\", encoding='unicode_escape', low_memory=False)\n",
    "df"
   ]
  },
  {
   "cell_type": "code",
   "execution_count": 6,
   "metadata": {},
   "outputs": [
    {
     "name": "stdout",
     "output_type": "stream",
     "text": [
      "                                        processed_values  length_distribution\n",
      "0                    [4n,, 4, f18, f3, s2, f1, f3, b3n@]                    8\n",
      "1                                         [4n,, 6, f2n#]                    3\n",
      "2                                                  [4*,]                    1\n",
      "3                                         [4n,, 5, b3n@]                    3\n",
      "4      [4, r28, f1, r2, f3, b3, f2, f1, f1, f3, b3, b...                   14\n",
      "...                                                  ...                  ...\n",
      "19319  [6, f38, b3, b3, b2, f3, b3, s3, f3, b3, f3, b...                   19\n",
      "19320  [6w,, 5, b39, b2, b2, f3, b3, b3, s3, b3, b3, ...                   19\n",
      "19321                                 [4, b39, b3, b3n@]                    4\n",
      "19322  [4d,, 4, f19, f3, b3, b3, b1, f2, b3, s3, f3, ...                   15\n",
      "19323  [6n,, 5, f39, b2, f3, b1, f1, f1, f2, b3, b2, ...                   22\n",
      "\n",
      "[19324 rows x 2 columns]\n"
     ]
    }
   ],
   "source": [
    "df['processed_values'] = df['processed_values'].apply(ast.literal_eval)\n",
    "\n",
    "# Calculate the length of each list\n",
    "df['length_distribution'] = df['processed_values'].apply(len)\n",
    "\n",
    "# Display the result\n",
    "print(df[['processed_values', 'length_distribution']])"
   ]
  },
  {
   "cell_type": "code",
   "execution_count": 7,
   "metadata": {},
   "outputs": [
    {
     "data": {
      "text/plain": [
       "length_distribution\n",
       "2     3435\n",
       "3     2929\n",
       "4     2139\n",
       "1     1782\n",
       "5     1779\n",
       "6     1380\n",
       "7     1150\n",
       "8      899\n",
       "9      715\n",
       "10     573\n",
       "11     443\n",
       "12     393\n",
       "13     303\n",
       "14     280\n",
       "15     226\n",
       "16     181\n",
       "17     152\n",
       "18     107\n",
       "19      97\n",
       "20      78\n",
       "21      59\n",
       "23      44\n",
       "22      44\n",
       "24      33\n",
       "25      24\n",
       "27      15\n",
       "26      14\n",
       "30       7\n",
       "31       7\n",
       "28       7\n",
       "37       4\n",
       "29       4\n",
       "35       4\n",
       "33       3\n",
       "36       3\n",
       "32       3\n",
       "34       3\n",
       "54       1\n",
       "45       1\n",
       "42       1\n",
       "43       1\n",
       "38       1\n",
       "Name: count, dtype: int64"
      ]
     },
     "execution_count": 7,
     "metadata": {},
     "output_type": "execute_result"
    }
   ],
   "source": [
    "df[\"length_distribution\"].value_counts()"
   ]
  },
  {
   "cell_type": "code",
   "execution_count": null,
   "metadata": {},
   "outputs": [],
   "source": []
  }
 ],
 "metadata": {
  "kernelspec": {
   "display_name": "Python 3",
   "language": "python",
   "name": "python3"
  },
  "language_info": {
   "codemirror_mode": {
    "name": "ipython",
    "version": 3
   },
   "file_extension": ".py",
   "mimetype": "text/x-python",
   "name": "python",
   "nbconvert_exporter": "python",
   "pygments_lexer": "ipython3",
   "version": "3.11.7"
  }
 },
 "nbformat": 4,
 "nbformat_minor": 2
}
