{
 "cells": [
  {
   "cell_type": "code",
   "execution_count": 1,
   "metadata": {},
   "outputs": [],
   "source": [
    "import pandas as pd"
   ]
  },
  {
   "cell_type": "code",
   "execution_count": 2,
   "metadata": {},
   "outputs": [
    {
     "data": {
      "text/html": [
       "<div>\n",
       "<style scoped>\n",
       "    .dataframe tbody tr th:only-of-type {\n",
       "        vertical-align: middle;\n",
       "    }\n",
       "\n",
       "    .dataframe tbody tr th {\n",
       "        vertical-align: top;\n",
       "    }\n",
       "\n",
       "    .dataframe thead th {\n",
       "        text-align: right;\n",
       "    }\n",
       "</style>\n",
       "<table border=\"1\" class=\"dataframe\">\n",
       "  <thead>\n",
       "    <tr style=\"text-align: right;\">\n",
       "      <th></th>\n",
       "      <th>Unnamed: 0</th>\n",
       "      <th>Pts</th>\n",
       "      <th>Gm1</th>\n",
       "      <th>Gm2</th>\n",
       "      <th>Set1</th>\n",
       "      <th>Set2</th>\n",
       "      <th>Serving</th>\n",
       "      <th>0</th>\n",
       "      <th>1</th>\n",
       "      <th>2</th>\n",
       "      <th>...</th>\n",
       "      <th>44</th>\n",
       "      <th>45</th>\n",
       "      <th>46</th>\n",
       "      <th>47</th>\n",
       "      <th>48</th>\n",
       "      <th>49</th>\n",
       "      <th>50</th>\n",
       "      <th>51</th>\n",
       "      <th>52</th>\n",
       "      <th>53</th>\n",
       "    </tr>\n",
       "  </thead>\n",
       "  <tbody>\n",
       "    <tr>\n",
       "      <th>0</th>\n",
       "      <td>0</td>\n",
       "      <td>0-0</td>\n",
       "      <td>0</td>\n",
       "      <td>0</td>\n",
       "      <td>0</td>\n",
       "      <td>0</td>\n",
       "      <td>ND</td>\n",
       "      <td>4n,</td>\n",
       "      <td>4</td>\n",
       "      <td>f18</td>\n",
       "      <td>...</td>\n",
       "      <td>NaN</td>\n",
       "      <td>NaN</td>\n",
       "      <td>NaN</td>\n",
       "      <td>NaN</td>\n",
       "      <td>NaN</td>\n",
       "      <td>NaN</td>\n",
       "      <td>NaN</td>\n",
       "      <td>NaN</td>\n",
       "      <td>NaN</td>\n",
       "      <td>NaN</td>\n",
       "    </tr>\n",
       "    <tr>\n",
       "      <th>1</th>\n",
       "      <td>1</td>\n",
       "      <td>0-15</td>\n",
       "      <td>0</td>\n",
       "      <td>0</td>\n",
       "      <td>0</td>\n",
       "      <td>0</td>\n",
       "      <td>ND</td>\n",
       "      <td>4n,</td>\n",
       "      <td>6</td>\n",
       "      <td>f2n#</td>\n",
       "      <td>...</td>\n",
       "      <td>NaN</td>\n",
       "      <td>NaN</td>\n",
       "      <td>NaN</td>\n",
       "      <td>NaN</td>\n",
       "      <td>NaN</td>\n",
       "      <td>NaN</td>\n",
       "      <td>NaN</td>\n",
       "      <td>NaN</td>\n",
       "      <td>NaN</td>\n",
       "      <td>NaN</td>\n",
       "    </tr>\n",
       "    <tr>\n",
       "      <th>2</th>\n",
       "      <td>2</td>\n",
       "      <td>15-15</td>\n",
       "      <td>0</td>\n",
       "      <td>0</td>\n",
       "      <td>0</td>\n",
       "      <td>0</td>\n",
       "      <td>ND</td>\n",
       "      <td>4*,</td>\n",
       "      <td>NaN</td>\n",
       "      <td>NaN</td>\n",
       "      <td>...</td>\n",
       "      <td>NaN</td>\n",
       "      <td>NaN</td>\n",
       "      <td>NaN</td>\n",
       "      <td>NaN</td>\n",
       "      <td>NaN</td>\n",
       "      <td>NaN</td>\n",
       "      <td>NaN</td>\n",
       "      <td>NaN</td>\n",
       "      <td>NaN</td>\n",
       "      <td>NaN</td>\n",
       "    </tr>\n",
       "    <tr>\n",
       "      <th>3</th>\n",
       "      <td>3</td>\n",
       "      <td>30-15</td>\n",
       "      <td>0</td>\n",
       "      <td>0</td>\n",
       "      <td>0</td>\n",
       "      <td>0</td>\n",
       "      <td>ND</td>\n",
       "      <td>4n,</td>\n",
       "      <td>5</td>\n",
       "      <td>b3n@</td>\n",
       "      <td>...</td>\n",
       "      <td>NaN</td>\n",
       "      <td>NaN</td>\n",
       "      <td>NaN</td>\n",
       "      <td>NaN</td>\n",
       "      <td>NaN</td>\n",
       "      <td>NaN</td>\n",
       "      <td>NaN</td>\n",
       "      <td>NaN</td>\n",
       "      <td>NaN</td>\n",
       "      <td>NaN</td>\n",
       "    </tr>\n",
       "    <tr>\n",
       "      <th>4</th>\n",
       "      <td>4</td>\n",
       "      <td>40-15</td>\n",
       "      <td>0</td>\n",
       "      <td>0</td>\n",
       "      <td>0</td>\n",
       "      <td>0</td>\n",
       "      <td>ND</td>\n",
       "      <td>4</td>\n",
       "      <td>r28</td>\n",
       "      <td>f1</td>\n",
       "      <td>...</td>\n",
       "      <td>NaN</td>\n",
       "      <td>NaN</td>\n",
       "      <td>NaN</td>\n",
       "      <td>NaN</td>\n",
       "      <td>NaN</td>\n",
       "      <td>NaN</td>\n",
       "      <td>NaN</td>\n",
       "      <td>NaN</td>\n",
       "      <td>NaN</td>\n",
       "      <td>NaN</td>\n",
       "    </tr>\n",
       "    <tr>\n",
       "      <th>...</th>\n",
       "      <td>...</td>\n",
       "      <td>...</td>\n",
       "      <td>...</td>\n",
       "      <td>...</td>\n",
       "      <td>...</td>\n",
       "      <td>...</td>\n",
       "      <td>...</td>\n",
       "      <td>...</td>\n",
       "      <td>...</td>\n",
       "      <td>...</td>\n",
       "      <td>...</td>\n",
       "      <td>...</td>\n",
       "      <td>...</td>\n",
       "      <td>...</td>\n",
       "      <td>...</td>\n",
       "      <td>...</td>\n",
       "      <td>...</td>\n",
       "      <td>...</td>\n",
       "      <td>...</td>\n",
       "      <td>...</td>\n",
       "      <td>...</td>\n",
       "    </tr>\n",
       "    <tr>\n",
       "      <th>19319</th>\n",
       "      <td>19319</td>\n",
       "      <td>0-15</td>\n",
       "      <td>5</td>\n",
       "      <td>4</td>\n",
       "      <td>1</td>\n",
       "      <td>1</td>\n",
       "      <td>ND</td>\n",
       "      <td>6</td>\n",
       "      <td>f38</td>\n",
       "      <td>b3</td>\n",
       "      <td>...</td>\n",
       "      <td>NaN</td>\n",
       "      <td>NaN</td>\n",
       "      <td>NaN</td>\n",
       "      <td>NaN</td>\n",
       "      <td>NaN</td>\n",
       "      <td>NaN</td>\n",
       "      <td>NaN</td>\n",
       "      <td>NaN</td>\n",
       "      <td>NaN</td>\n",
       "      <td>NaN</td>\n",
       "    </tr>\n",
       "    <tr>\n",
       "      <th>19320</th>\n",
       "      <td>19320</td>\n",
       "      <td>0-30</td>\n",
       "      <td>5</td>\n",
       "      <td>4</td>\n",
       "      <td>1</td>\n",
       "      <td>1</td>\n",
       "      <td>ND</td>\n",
       "      <td>6w,</td>\n",
       "      <td>5</td>\n",
       "      <td>b39</td>\n",
       "      <td>...</td>\n",
       "      <td>NaN</td>\n",
       "      <td>NaN</td>\n",
       "      <td>NaN</td>\n",
       "      <td>NaN</td>\n",
       "      <td>NaN</td>\n",
       "      <td>NaN</td>\n",
       "      <td>NaN</td>\n",
       "      <td>NaN</td>\n",
       "      <td>NaN</td>\n",
       "      <td>NaN</td>\n",
       "    </tr>\n",
       "    <tr>\n",
       "      <th>19321</th>\n",
       "      <td>19321</td>\n",
       "      <td>15-30</td>\n",
       "      <td>5</td>\n",
       "      <td>4</td>\n",
       "      <td>1</td>\n",
       "      <td>1</td>\n",
       "      <td>ND</td>\n",
       "      <td>4</td>\n",
       "      <td>b39</td>\n",
       "      <td>b3</td>\n",
       "      <td>...</td>\n",
       "      <td>NaN</td>\n",
       "      <td>NaN</td>\n",
       "      <td>NaN</td>\n",
       "      <td>NaN</td>\n",
       "      <td>NaN</td>\n",
       "      <td>NaN</td>\n",
       "      <td>NaN</td>\n",
       "      <td>NaN</td>\n",
       "      <td>NaN</td>\n",
       "      <td>NaN</td>\n",
       "    </tr>\n",
       "    <tr>\n",
       "      <th>19322</th>\n",
       "      <td>19322</td>\n",
       "      <td>30-30</td>\n",
       "      <td>5</td>\n",
       "      <td>4</td>\n",
       "      <td>1</td>\n",
       "      <td>1</td>\n",
       "      <td>ND</td>\n",
       "      <td>4d,</td>\n",
       "      <td>4</td>\n",
       "      <td>f19</td>\n",
       "      <td>...</td>\n",
       "      <td>NaN</td>\n",
       "      <td>NaN</td>\n",
       "      <td>NaN</td>\n",
       "      <td>NaN</td>\n",
       "      <td>NaN</td>\n",
       "      <td>NaN</td>\n",
       "      <td>NaN</td>\n",
       "      <td>NaN</td>\n",
       "      <td>NaN</td>\n",
       "      <td>NaN</td>\n",
       "    </tr>\n",
       "    <tr>\n",
       "      <th>19323</th>\n",
       "      <td>19323</td>\n",
       "      <td>40-30</td>\n",
       "      <td>5</td>\n",
       "      <td>4</td>\n",
       "      <td>1</td>\n",
       "      <td>1</td>\n",
       "      <td>ND</td>\n",
       "      <td>6n,</td>\n",
       "      <td>5</td>\n",
       "      <td>f39</td>\n",
       "      <td>...</td>\n",
       "      <td>NaN</td>\n",
       "      <td>NaN</td>\n",
       "      <td>NaN</td>\n",
       "      <td>NaN</td>\n",
       "      <td>NaN</td>\n",
       "      <td>NaN</td>\n",
       "      <td>NaN</td>\n",
       "      <td>NaN</td>\n",
       "      <td>NaN</td>\n",
       "      <td>NaN</td>\n",
       "    </tr>\n",
       "  </tbody>\n",
       "</table>\n",
       "<p>19324 rows × 61 columns</p>\n",
       "</div>"
      ],
      "text/plain": [
       "       Unnamed: 0    Pts  Gm1  Gm2  Set1  Set2 Serving    0    1     2  ...  \\\n",
       "0               0    0-0    0    0     0     0      ND  4n,    4   f18  ...   \n",
       "1               1   0-15    0    0     0     0      ND  4n,    6  f2n#  ...   \n",
       "2               2  15-15    0    0     0     0      ND  4*,  NaN   NaN  ...   \n",
       "3               3  30-15    0    0     0     0      ND  4n,    5  b3n@  ...   \n",
       "4               4  40-15    0    0     0     0      ND    4  r28    f1  ...   \n",
       "...           ...    ...  ...  ...   ...   ...     ...  ...  ...   ...  ...   \n",
       "19319       19319   0-15    5    4     1     1      ND    6  f38    b3  ...   \n",
       "19320       19320   0-30    5    4     1     1      ND  6w,    5   b39  ...   \n",
       "19321       19321  15-30    5    4     1     1      ND    4  b39    b3  ...   \n",
       "19322       19322  30-30    5    4     1     1      ND  4d,    4   f19  ...   \n",
       "19323       19323  40-30    5    4     1     1      ND  6n,    5   f39  ...   \n",
       "\n",
       "        44   45   46   47   48   49   50   51   52   53  \n",
       "0      NaN  NaN  NaN  NaN  NaN  NaN  NaN  NaN  NaN  NaN  \n",
       "1      NaN  NaN  NaN  NaN  NaN  NaN  NaN  NaN  NaN  NaN  \n",
       "2      NaN  NaN  NaN  NaN  NaN  NaN  NaN  NaN  NaN  NaN  \n",
       "3      NaN  NaN  NaN  NaN  NaN  NaN  NaN  NaN  NaN  NaN  \n",
       "4      NaN  NaN  NaN  NaN  NaN  NaN  NaN  NaN  NaN  NaN  \n",
       "...    ...  ...  ...  ...  ...  ...  ...  ...  ...  ...  \n",
       "19319  NaN  NaN  NaN  NaN  NaN  NaN  NaN  NaN  NaN  NaN  \n",
       "19320  NaN  NaN  NaN  NaN  NaN  NaN  NaN  NaN  NaN  NaN  \n",
       "19321  NaN  NaN  NaN  NaN  NaN  NaN  NaN  NaN  NaN  NaN  \n",
       "19322  NaN  NaN  NaN  NaN  NaN  NaN  NaN  NaN  NaN  NaN  \n",
       "19323  NaN  NaN  NaN  NaN  NaN  NaN  NaN  NaN  NaN  NaN  \n",
       "\n",
       "[19324 rows x 61 columns]"
      ]
     },
     "execution_count": 2,
     "metadata": {},
     "output_type": "execute_result"
    }
   ],
   "source": [
    "# import data\n",
    "df = pd.read_csv(r\"C:\\Users\\carlo\\TrainingsTool\\Tennis\\ML_Stuff\\df_djoker_ready_to_split.csv\", encoding=\"unicode_escape\", low_memory=False)\n",
    "df"
   ]
  },
  {
   "cell_type": "code",
   "execution_count": 3,
   "metadata": {},
   "outputs": [],
   "source": [
    "# drop redundant index\n",
    "df = df.drop(\"Unnamed: 0\", axis = 1)"
   ]
  },
  {
   "cell_type": "code",
   "execution_count": 5,
   "metadata": {},
   "outputs": [],
   "source": [
    "# all rows where Djokovic is serving\n",
    "df_serving = df[df.Serving == \"ND\"]\n",
    "df_returning = df[df.Serving != \"ND\"]\n"
   ]
  },
  {
   "cell_type": "code",
   "execution_count": 18,
   "metadata": {},
   "outputs": [
    {
     "data": {
      "text/plain": [
       "(9374, 9950)"
      ]
     },
     "execution_count": 18,
     "metadata": {},
     "output_type": "execute_result"
    }
   ],
   "source": [
    "len(df_serving), len(df_returning)"
   ]
  },
  {
   "cell_type": "code",
   "execution_count": 19,
   "metadata": {},
   "outputs": [],
   "source": [
    "first_serve_in_play = [\"4\", \"5\", \"6\"]"
   ]
  },
  {
   "cell_type": "code",
   "execution_count": 20,
   "metadata": {},
   "outputs": [
    {
     "data": {
      "text/html": [
       "<div>\n",
       "<style scoped>\n",
       "    .dataframe tbody tr th:only-of-type {\n",
       "        vertical-align: middle;\n",
       "    }\n",
       "\n",
       "    .dataframe tbody tr th {\n",
       "        vertical-align: top;\n",
       "    }\n",
       "\n",
       "    .dataframe thead th {\n",
       "        text-align: right;\n",
       "    }\n",
       "</style>\n",
       "<table border=\"1\" class=\"dataframe\">\n",
       "  <thead>\n",
       "    <tr style=\"text-align: right;\">\n",
       "      <th></th>\n",
       "      <th>Pts</th>\n",
       "      <th>Gm1</th>\n",
       "      <th>Gm2</th>\n",
       "      <th>Set1</th>\n",
       "      <th>Set2</th>\n",
       "      <th>Serving</th>\n",
       "      <th>0</th>\n",
       "      <th>1</th>\n",
       "      <th>2</th>\n",
       "      <th>3</th>\n",
       "      <th>...</th>\n",
       "      <th>44</th>\n",
       "      <th>45</th>\n",
       "      <th>46</th>\n",
       "      <th>47</th>\n",
       "      <th>48</th>\n",
       "      <th>49</th>\n",
       "      <th>50</th>\n",
       "      <th>51</th>\n",
       "      <th>52</th>\n",
       "      <th>53</th>\n",
       "    </tr>\n",
       "  </thead>\n",
       "  <tbody>\n",
       "    <tr>\n",
       "      <th>4</th>\n",
       "      <td>40-15</td>\n",
       "      <td>0</td>\n",
       "      <td>0</td>\n",
       "      <td>0</td>\n",
       "      <td>0</td>\n",
       "      <td>ND</td>\n",
       "      <td>4</td>\n",
       "      <td>r28</td>\n",
       "      <td>f1</td>\n",
       "      <td>r2</td>\n",
       "      <td>...</td>\n",
       "      <td>NaN</td>\n",
       "      <td>NaN</td>\n",
       "      <td>NaN</td>\n",
       "      <td>NaN</td>\n",
       "      <td>NaN</td>\n",
       "      <td>NaN</td>\n",
       "      <td>NaN</td>\n",
       "      <td>NaN</td>\n",
       "      <td>NaN</td>\n",
       "      <td>NaN</td>\n",
       "    </tr>\n",
       "    <tr>\n",
       "      <th>13</th>\n",
       "      <td>0-0</td>\n",
       "      <td>1</td>\n",
       "      <td>1</td>\n",
       "      <td>0</td>\n",
       "      <td>0</td>\n",
       "      <td>ND</td>\n",
       "      <td>4</td>\n",
       "      <td>r37</td>\n",
       "      <td>b+3</td>\n",
       "      <td>m2</td>\n",
       "      <td>...</td>\n",
       "      <td>NaN</td>\n",
       "      <td>NaN</td>\n",
       "      <td>NaN</td>\n",
       "      <td>NaN</td>\n",
       "      <td>NaN</td>\n",
       "      <td>NaN</td>\n",
       "      <td>NaN</td>\n",
       "      <td>NaN</td>\n",
       "      <td>NaN</td>\n",
       "      <td>NaN</td>\n",
       "    </tr>\n",
       "    <tr>\n",
       "      <th>16</th>\n",
       "      <td>15-30</td>\n",
       "      <td>1</td>\n",
       "      <td>1</td>\n",
       "      <td>0</td>\n",
       "      <td>0</td>\n",
       "      <td>ND</td>\n",
       "      <td>4</td>\n",
       "      <td>b2n#</td>\n",
       "      <td>NaN</td>\n",
       "      <td>NaN</td>\n",
       "      <td>...</td>\n",
       "      <td>NaN</td>\n",
       "      <td>NaN</td>\n",
       "      <td>NaN</td>\n",
       "      <td>NaN</td>\n",
       "      <td>NaN</td>\n",
       "      <td>NaN</td>\n",
       "      <td>NaN</td>\n",
       "      <td>NaN</td>\n",
       "      <td>NaN</td>\n",
       "      <td>NaN</td>\n",
       "    </tr>\n",
       "    <tr>\n",
       "      <th>17</th>\n",
       "      <td>30-30</td>\n",
       "      <td>1</td>\n",
       "      <td>1</td>\n",
       "      <td>0</td>\n",
       "      <td>0</td>\n",
       "      <td>ND</td>\n",
       "      <td>6</td>\n",
       "      <td>s1w#</td>\n",
       "      <td>NaN</td>\n",
       "      <td>NaN</td>\n",
       "      <td>...</td>\n",
       "      <td>NaN</td>\n",
       "      <td>NaN</td>\n",
       "      <td>NaN</td>\n",
       "      <td>NaN</td>\n",
       "      <td>NaN</td>\n",
       "      <td>NaN</td>\n",
       "      <td>NaN</td>\n",
       "      <td>NaN</td>\n",
       "      <td>NaN</td>\n",
       "      <td>NaN</td>\n",
       "    </tr>\n",
       "    <tr>\n",
       "      <th>24</th>\n",
       "      <td>15-0</td>\n",
       "      <td>2</td>\n",
       "      <td>2</td>\n",
       "      <td>0</td>\n",
       "      <td>0</td>\n",
       "      <td>ND</td>\n",
       "      <td>4</td>\n",
       "      <td>s2n#</td>\n",
       "      <td>NaN</td>\n",
       "      <td>NaN</td>\n",
       "      <td>...</td>\n",
       "      <td>NaN</td>\n",
       "      <td>NaN</td>\n",
       "      <td>NaN</td>\n",
       "      <td>NaN</td>\n",
       "      <td>NaN</td>\n",
       "      <td>NaN</td>\n",
       "      <td>NaN</td>\n",
       "      <td>NaN</td>\n",
       "      <td>NaN</td>\n",
       "      <td>NaN</td>\n",
       "    </tr>\n",
       "    <tr>\n",
       "      <th>...</th>\n",
       "      <td>...</td>\n",
       "      <td>...</td>\n",
       "      <td>...</td>\n",
       "      <td>...</td>\n",
       "      <td>...</td>\n",
       "      <td>...</td>\n",
       "      <td>...</td>\n",
       "      <td>...</td>\n",
       "      <td>...</td>\n",
       "      <td>...</td>\n",
       "      <td>...</td>\n",
       "      <td>...</td>\n",
       "      <td>...</td>\n",
       "      <td>...</td>\n",
       "      <td>...</td>\n",
       "      <td>...</td>\n",
       "      <td>...</td>\n",
       "      <td>...</td>\n",
       "      <td>...</td>\n",
       "      <td>...</td>\n",
       "      <td>...</td>\n",
       "    </tr>\n",
       "    <tr>\n",
       "      <th>19311</th>\n",
       "      <td>30-15</td>\n",
       "      <td>4</td>\n",
       "      <td>3</td>\n",
       "      <td>1</td>\n",
       "      <td>1</td>\n",
       "      <td>ND</td>\n",
       "      <td>6</td>\n",
       "      <td>f3x#</td>\n",
       "      <td>NaN</td>\n",
       "      <td>NaN</td>\n",
       "      <td>...</td>\n",
       "      <td>NaN</td>\n",
       "      <td>NaN</td>\n",
       "      <td>NaN</td>\n",
       "      <td>NaN</td>\n",
       "      <td>NaN</td>\n",
       "      <td>NaN</td>\n",
       "      <td>NaN</td>\n",
       "      <td>NaN</td>\n",
       "      <td>NaN</td>\n",
       "      <td>NaN</td>\n",
       "    </tr>\n",
       "    <tr>\n",
       "      <th>19312</th>\n",
       "      <td>40-15</td>\n",
       "      <td>4</td>\n",
       "      <td>3</td>\n",
       "      <td>1</td>\n",
       "      <td>1</td>\n",
       "      <td>ND</td>\n",
       "      <td>4</td>\n",
       "      <td>f28</td>\n",
       "      <td>b1</td>\n",
       "      <td>f2</td>\n",
       "      <td>...</td>\n",
       "      <td>NaN</td>\n",
       "      <td>NaN</td>\n",
       "      <td>NaN</td>\n",
       "      <td>NaN</td>\n",
       "      <td>NaN</td>\n",
       "      <td>NaN</td>\n",
       "      <td>NaN</td>\n",
       "      <td>NaN</td>\n",
       "      <td>NaN</td>\n",
       "      <td>NaN</td>\n",
       "    </tr>\n",
       "    <tr>\n",
       "      <th>19318</th>\n",
       "      <td>0-0</td>\n",
       "      <td>5</td>\n",
       "      <td>4</td>\n",
       "      <td>1</td>\n",
       "      <td>1</td>\n",
       "      <td>ND</td>\n",
       "      <td>6</td>\n",
       "      <td>s18</td>\n",
       "      <td>f+1</td>\n",
       "      <td>l2</td>\n",
       "      <td>...</td>\n",
       "      <td>NaN</td>\n",
       "      <td>NaN</td>\n",
       "      <td>NaN</td>\n",
       "      <td>NaN</td>\n",
       "      <td>NaN</td>\n",
       "      <td>NaN</td>\n",
       "      <td>NaN</td>\n",
       "      <td>NaN</td>\n",
       "      <td>NaN</td>\n",
       "      <td>NaN</td>\n",
       "    </tr>\n",
       "    <tr>\n",
       "      <th>19319</th>\n",
       "      <td>0-15</td>\n",
       "      <td>5</td>\n",
       "      <td>4</td>\n",
       "      <td>1</td>\n",
       "      <td>1</td>\n",
       "      <td>ND</td>\n",
       "      <td>6</td>\n",
       "      <td>f38</td>\n",
       "      <td>b3</td>\n",
       "      <td>b3</td>\n",
       "      <td>...</td>\n",
       "      <td>NaN</td>\n",
       "      <td>NaN</td>\n",
       "      <td>NaN</td>\n",
       "      <td>NaN</td>\n",
       "      <td>NaN</td>\n",
       "      <td>NaN</td>\n",
       "      <td>NaN</td>\n",
       "      <td>NaN</td>\n",
       "      <td>NaN</td>\n",
       "      <td>NaN</td>\n",
       "    </tr>\n",
       "    <tr>\n",
       "      <th>19321</th>\n",
       "      <td>15-30</td>\n",
       "      <td>5</td>\n",
       "      <td>4</td>\n",
       "      <td>1</td>\n",
       "      <td>1</td>\n",
       "      <td>ND</td>\n",
       "      <td>4</td>\n",
       "      <td>b39</td>\n",
       "      <td>b3</td>\n",
       "      <td>b3n@</td>\n",
       "      <td>...</td>\n",
       "      <td>NaN</td>\n",
       "      <td>NaN</td>\n",
       "      <td>NaN</td>\n",
       "      <td>NaN</td>\n",
       "      <td>NaN</td>\n",
       "      <td>NaN</td>\n",
       "      <td>NaN</td>\n",
       "      <td>NaN</td>\n",
       "      <td>NaN</td>\n",
       "      <td>NaN</td>\n",
       "    </tr>\n",
       "  </tbody>\n",
       "</table>\n",
       "<p>4961 rows × 60 columns</p>\n",
       "</div>"
      ],
      "text/plain": [
       "         Pts  Gm1  Gm2  Set1  Set2 Serving  0     1    2     3  ...   44   45  \\\n",
       "4      40-15    0    0     0     0      ND  4   r28   f1    r2  ...  NaN  NaN   \n",
       "13       0-0    1    1     0     0      ND  4   r37  b+3    m2  ...  NaN  NaN   \n",
       "16     15-30    1    1     0     0      ND  4  b2n#  NaN   NaN  ...  NaN  NaN   \n",
       "17     30-30    1    1     0     0      ND  6  s1w#  NaN   NaN  ...  NaN  NaN   \n",
       "24      15-0    2    2     0     0      ND  4  s2n#  NaN   NaN  ...  NaN  NaN   \n",
       "...      ...  ...  ...   ...   ...     ... ..   ...  ...   ...  ...  ...  ...   \n",
       "19311  30-15    4    3     1     1      ND  6  f3x#  NaN   NaN  ...  NaN  NaN   \n",
       "19312  40-15    4    3     1     1      ND  4   f28   b1    f2  ...  NaN  NaN   \n",
       "19318    0-0    5    4     1     1      ND  6   s18  f+1    l2  ...  NaN  NaN   \n",
       "19319   0-15    5    4     1     1      ND  6   f38   b3    b3  ...  NaN  NaN   \n",
       "19321  15-30    5    4     1     1      ND  4   b39   b3  b3n@  ...  NaN  NaN   \n",
       "\n",
       "        46   47   48   49   50   51   52   53  \n",
       "4      NaN  NaN  NaN  NaN  NaN  NaN  NaN  NaN  \n",
       "13     NaN  NaN  NaN  NaN  NaN  NaN  NaN  NaN  \n",
       "16     NaN  NaN  NaN  NaN  NaN  NaN  NaN  NaN  \n",
       "17     NaN  NaN  NaN  NaN  NaN  NaN  NaN  NaN  \n",
       "24     NaN  NaN  NaN  NaN  NaN  NaN  NaN  NaN  \n",
       "...    ...  ...  ...  ...  ...  ...  ...  ...  \n",
       "19311  NaN  NaN  NaN  NaN  NaN  NaN  NaN  NaN  \n",
       "19312  NaN  NaN  NaN  NaN  NaN  NaN  NaN  NaN  \n",
       "19318  NaN  NaN  NaN  NaN  NaN  NaN  NaN  NaN  \n",
       "19319  NaN  NaN  NaN  NaN  NaN  NaN  NaN  NaN  \n",
       "19321  NaN  NaN  NaN  NaN  NaN  NaN  NaN  NaN  \n",
       "\n",
       "[4961 rows x 60 columns]"
      ]
     },
     "execution_count": 20,
     "metadata": {},
     "output_type": "execute_result"
    }
   ],
   "source": [
    "df_serving_1st = df_serving.loc[df_serving[\"0\"].isin(first_serve_in_play)]\n",
    "df_serving_1st"
   ]
  },
  {
   "cell_type": "code",
   "execution_count": 22,
   "metadata": {},
   "outputs": [
    {
     "data": {
      "text/plain": [
       "0\n",
       "4    2336\n",
       "6    2241\n",
       "5     384\n",
       "Name: count, dtype: int64"
      ]
     },
     "execution_count": 22,
     "metadata": {},
     "output_type": "execute_result"
    }
   ],
   "source": [
    "df_serving_1st[\"0\"].value_counts()"
   ]
  },
  {
   "cell_type": "code",
   "execution_count": 27,
   "metadata": {},
   "outputs": [
    {
     "data": {
      "text/plain": [
       "(2845,\n",
       " 1\n",
       " 4    1014\n",
       " 5     980\n",
       " 6     851\n",
       " Name: count, dtype: int64)"
      ]
     },
     "execution_count": 27,
     "metadata": {},
     "output_type": "execute_result"
    }
   ],
   "source": [
    "df_serving_2nd = df_serving.loc[df_serving[\"1\"].isin(first_serve_in_play)]\n",
    "len(df_serving_2nd), df_serving_2nd[\"1\"].value_counts()"
   ]
  },
  {
   "cell_type": "code",
   "execution_count": 30,
   "metadata": {},
   "outputs": [
    {
     "data": {
      "text/plain": [
       "(5053,\n",
       " 0\n",
       " 4    2349\n",
       " 6    2169\n",
       " 5     535\n",
       " Name: count, dtype: int64)"
      ]
     },
     "execution_count": 30,
     "metadata": {},
     "output_type": "execute_result"
    }
   ],
   "source": [
    "df_returning_1st = df_returning.loc[df_returning[\"0\"].isin(first_serve_in_play)]\n",
    "len(df_returning_1st), df_returning_1st[\"0\"].value_counts()"
   ]
  },
  {
   "cell_type": "code",
   "execution_count": 31,
   "metadata": {},
   "outputs": [
    {
     "data": {
      "text/plain": [
       "(3073,\n",
       " 1\n",
       " 5    1372\n",
       " 4     896\n",
       " 6     805\n",
       " Name: count, dtype: int64)"
      ]
     },
     "execution_count": 31,
     "metadata": {},
     "output_type": "execute_result"
    }
   ],
   "source": [
    "df_returning_2nd = df_returning.loc[df_returning[\"1\"].isin(first_serve_in_play)]\n",
    "len(df_returning_2nd), df_returning_2nd[\"1\"].value_counts()"
   ]
  },
  {
   "cell_type": "code",
   "execution_count": 54,
   "metadata": {},
   "outputs": [],
   "source": [
    "# df_serving_1st #  \"2\" \"4\" \"6\" and so on are the relevant Djokovic shots\n",
    "# df_serving_2nd # \"3\" \"5\" \"7\" and so on are the relevant Djokovic shots\n",
    "\n",
    "# df_returning_1st \"3\" \"5\" \"7\" and so on are the relevant Djokovic shots\n",
    "# df_returning_2nd \"4\" \"6\" and so on are the relevant Djokovic shots"
   ]
  },
  {
   "cell_type": "code",
   "execution_count": 47,
   "metadata": {},
   "outputs": [
    {
     "data": {
      "text/html": [
       "<div>\n",
       "<style scoped>\n",
       "    .dataframe tbody tr th:only-of-type {\n",
       "        vertical-align: middle;\n",
       "    }\n",
       "\n",
       "    .dataframe tbody tr th {\n",
       "        vertical-align: top;\n",
       "    }\n",
       "\n",
       "    .dataframe thead th {\n",
       "        text-align: right;\n",
       "    }\n",
       "</style>\n",
       "<table border=\"1\" class=\"dataframe\">\n",
       "  <thead>\n",
       "    <tr style=\"text-align: right;\">\n",
       "      <th></th>\n",
       "      <th>1</th>\n",
       "      <th>2</th>\n",
       "    </tr>\n",
       "  </thead>\n",
       "  <tbody>\n",
       "    <tr>\n",
       "      <th>4</th>\n",
       "      <td>r28</td>\n",
       "      <td>f1</td>\n",
       "    </tr>\n",
       "    <tr>\n",
       "      <th>13</th>\n",
       "      <td>r37</td>\n",
       "      <td>b+3</td>\n",
       "    </tr>\n",
       "    <tr>\n",
       "      <th>25</th>\n",
       "      <td>r28</td>\n",
       "      <td>f1</td>\n",
       "    </tr>\n",
       "    <tr>\n",
       "      <th>31</th>\n",
       "      <td>b39</td>\n",
       "      <td>b2</td>\n",
       "    </tr>\n",
       "    <tr>\n",
       "      <th>33</th>\n",
       "      <td>f17</td>\n",
       "      <td>f+3</td>\n",
       "    </tr>\n",
       "    <tr>\n",
       "      <th>...</th>\n",
       "      <td>...</td>\n",
       "      <td>...</td>\n",
       "    </tr>\n",
       "    <tr>\n",
       "      <th>19301</th>\n",
       "      <td>f17</td>\n",
       "      <td>f+3</td>\n",
       "    </tr>\n",
       "    <tr>\n",
       "      <th>19312</th>\n",
       "      <td>f28</td>\n",
       "      <td>b1</td>\n",
       "    </tr>\n",
       "    <tr>\n",
       "      <th>19318</th>\n",
       "      <td>s18</td>\n",
       "      <td>f+1</td>\n",
       "    </tr>\n",
       "    <tr>\n",
       "      <th>19319</th>\n",
       "      <td>f38</td>\n",
       "      <td>b3</td>\n",
       "    </tr>\n",
       "    <tr>\n",
       "      <th>19321</th>\n",
       "      <td>b39</td>\n",
       "      <td>b3</td>\n",
       "    </tr>\n",
       "  </tbody>\n",
       "</table>\n",
       "<p>3652 rows × 2 columns</p>\n",
       "</div>"
      ],
      "text/plain": [
       "         1    2\n",
       "4      r28   f1\n",
       "13     r37  b+3\n",
       "25     r28   f1\n",
       "31     b39   b2\n",
       "33     f17  f+3\n",
       "...    ...  ...\n",
       "19301  f17  f+3\n",
       "19312  f28   b1\n",
       "19318  s18  f+1\n",
       "19319  f38   b3\n",
       "19321  b39   b3\n",
       "\n",
       "[3652 rows x 2 columns]"
      ]
     },
     "execution_count": 47,
     "metadata": {},
     "output_type": "execute_result"
    }
   ],
   "source": [
    "df_serving_1st_all_shot_pairs = df_serving_1st[[\"1\", \"2\"]]\n",
    "df_serving_1st_all_shot_pairs = df_serving_1st_all_shot_pairs[df_serving_1st_all_shot_pairs['2'].notna()]\n",
    "df_serving_1st_all_shot_pairs"
   ]
  },
  {
   "cell_type": "code",
   "execution_count": 56,
   "metadata": {},
   "outputs": [
    {
     "data": {
      "text/html": [
       "<div>\n",
       "<style scoped>\n",
       "    .dataframe tbody tr th:only-of-type {\n",
       "        vertical-align: middle;\n",
       "    }\n",
       "\n",
       "    .dataframe tbody tr th {\n",
       "        vertical-align: top;\n",
       "    }\n",
       "\n",
       "    .dataframe thead th {\n",
       "        text-align: right;\n",
       "    }\n",
       "</style>\n",
       "<table border=\"1\" class=\"dataframe\">\n",
       "  <thead>\n",
       "    <tr style=\"text-align: right;\">\n",
       "      <th></th>\n",
       "      <th>1</th>\n",
       "      <th>2</th>\n",
       "    </tr>\n",
       "  </thead>\n",
       "  <tbody>\n",
       "    <tr>\n",
       "      <th>4</th>\n",
       "      <td>r2</td>\n",
       "      <td>f3</td>\n",
       "    </tr>\n",
       "    <tr>\n",
       "      <th>13</th>\n",
       "      <td>m2</td>\n",
       "      <td>o2</td>\n",
       "    </tr>\n",
       "    <tr>\n",
       "      <th>25</th>\n",
       "      <td>f1</td>\n",
       "      <td>f2</td>\n",
       "    </tr>\n",
       "    <tr>\n",
       "      <th>33</th>\n",
       "      <td>s3</td>\n",
       "      <td>z1w#</td>\n",
       "    </tr>\n",
       "    <tr>\n",
       "      <th>34</th>\n",
       "      <td>f3</td>\n",
       "      <td>z1</td>\n",
       "    </tr>\n",
       "    <tr>\n",
       "      <th>...</th>\n",
       "      <td>...</td>\n",
       "      <td>...</td>\n",
       "    </tr>\n",
       "    <tr>\n",
       "      <th>19299</th>\n",
       "      <td>b2</td>\n",
       "      <td>s3</td>\n",
       "    </tr>\n",
       "    <tr>\n",
       "      <th>19301</th>\n",
       "      <td>m2</td>\n",
       "      <td>o-1*</td>\n",
       "    </tr>\n",
       "    <tr>\n",
       "      <th>19312</th>\n",
       "      <td>f2</td>\n",
       "      <td>b2</td>\n",
       "    </tr>\n",
       "    <tr>\n",
       "      <th>19318</th>\n",
       "      <td>l2</td>\n",
       "      <td>o=1d@</td>\n",
       "    </tr>\n",
       "    <tr>\n",
       "      <th>19319</th>\n",
       "      <td>b3</td>\n",
       "      <td>b2</td>\n",
       "    </tr>\n",
       "  </tbody>\n",
       "</table>\n",
       "<p>2230 rows × 2 columns</p>\n",
       "</div>"
      ],
      "text/plain": [
       "        1      2\n",
       "4      r2     f3\n",
       "13     m2     o2\n",
       "25     f1     f2\n",
       "33     s3   z1w#\n",
       "34     f3     z1\n",
       "...    ..    ...\n",
       "19299  b2     s3\n",
       "19301  m2   o-1*\n",
       "19312  f2     b2\n",
       "19318  l2  o=1d@\n",
       "19319  b3     b2\n",
       "\n",
       "[2230 rows x 2 columns]"
      ]
     },
     "execution_count": 56,
     "metadata": {},
     "output_type": "execute_result"
    }
   ],
   "source": [
    "df_addition1 = df_serving_1st[[\"3\", \"4\"]]\n",
    "df_addition1 = df_addition1[df_addition1[\"3\"].notna()]\n",
    "df_addition1 = df_addition1[df_addition1[\"4\"].notna()]\n",
    "df_addition1.rename(columns={\"3\": \"1\", \"4\": \"2\"}, inplace = True)\n",
    "df_addition1"
   ]
  },
  {
   "cell_type": "code",
   "execution_count": 62,
   "metadata": {},
   "outputs": [
    {
     "data": {
      "text/html": [
       "<div>\n",
       "<style scoped>\n",
       "    .dataframe tbody tr th:only-of-type {\n",
       "        vertical-align: middle;\n",
       "    }\n",
       "\n",
       "    .dataframe tbody tr th {\n",
       "        vertical-align: top;\n",
       "    }\n",
       "\n",
       "    .dataframe thead th {\n",
       "        text-align: right;\n",
       "    }\n",
       "</style>\n",
       "<table border=\"1\" class=\"dataframe\">\n",
       "  <thead>\n",
       "    <tr style=\"text-align: right;\">\n",
       "      <th></th>\n",
       "      <th>1</th>\n",
       "      <th>2</th>\n",
       "    </tr>\n",
       "  </thead>\n",
       "  <tbody>\n",
       "    <tr>\n",
       "      <th>4</th>\n",
       "      <td>b3</td>\n",
       "      <td>f2</td>\n",
       "    </tr>\n",
       "    <tr>\n",
       "      <th>13</th>\n",
       "      <td>b2</td>\n",
       "      <td>f3w@</td>\n",
       "    </tr>\n",
       "    <tr>\n",
       "      <th>25</th>\n",
       "      <td>b2</td>\n",
       "      <td>f1</td>\n",
       "    </tr>\n",
       "    <tr>\n",
       "      <th>34</th>\n",
       "      <td>l3</td>\n",
       "      <td>o3*</td>\n",
       "    </tr>\n",
       "    <tr>\n",
       "      <th>44</th>\n",
       "      <td>b2</td>\n",
       "      <td>f3</td>\n",
       "    </tr>\n",
       "    <tr>\n",
       "      <th>...</th>\n",
       "      <td>...</td>\n",
       "      <td>...</td>\n",
       "    </tr>\n",
       "    <tr>\n",
       "      <th>19286</th>\n",
       "      <td>f3</td>\n",
       "      <td>b+3</td>\n",
       "    </tr>\n",
       "    <tr>\n",
       "      <th>19295</th>\n",
       "      <td>s2</td>\n",
       "      <td>f3</td>\n",
       "    </tr>\n",
       "    <tr>\n",
       "      <th>19299</th>\n",
       "      <td>f3</td>\n",
       "      <td>b2d#</td>\n",
       "    </tr>\n",
       "    <tr>\n",
       "      <th>19312</th>\n",
       "      <td>f1</td>\n",
       "      <td>f2</td>\n",
       "    </tr>\n",
       "    <tr>\n",
       "      <th>19319</th>\n",
       "      <td>f3</td>\n",
       "      <td>b3</td>\n",
       "    </tr>\n",
       "  </tbody>\n",
       "</table>\n",
       "<p>1409 rows × 2 columns</p>\n",
       "</div>"
      ],
      "text/plain": [
       "        1     2\n",
       "4      b3    f2\n",
       "13     b2  f3w@\n",
       "25     b2    f1\n",
       "34     l3   o3*\n",
       "44     b2    f3\n",
       "...    ..   ...\n",
       "19286  f3   b+3\n",
       "19295  s2    f3\n",
       "19299  f3  b2d#\n",
       "19312  f1    f2\n",
       "19319  f3    b3\n",
       "\n",
       "[1409 rows x 2 columns]"
      ]
     },
     "execution_count": 62,
     "metadata": {},
     "output_type": "execute_result"
    }
   ],
   "source": [
    "df_addition2 = df_serving_1st[[\"5\", \"6\"]]\n",
    "df_addition2 = df_addition2[df_addition2[\"5\"].notna()]\n",
    "df_addition2 = df_addition2[df_addition2[\"6\"].notna()]\n",
    "df_addition2.rename(columns={\"5\": \"1\", \"6\": \"2\"}, inplace = True)\n",
    "df_addition2"
   ]
  },
  {
   "cell_type": "code",
   "execution_count": 64,
   "metadata": {},
   "outputs": [
    {
     "data": {
      "text/html": [
       "<div>\n",
       "<style scoped>\n",
       "    .dataframe tbody tr th:only-of-type {\n",
       "        vertical-align: middle;\n",
       "    }\n",
       "\n",
       "    .dataframe tbody tr th {\n",
       "        vertical-align: top;\n",
       "    }\n",
       "\n",
       "    .dataframe thead th {\n",
       "        text-align: right;\n",
       "    }\n",
       "</style>\n",
       "<table border=\"1\" class=\"dataframe\">\n",
       "  <thead>\n",
       "    <tr style=\"text-align: right;\">\n",
       "      <th></th>\n",
       "      <th>1</th>\n",
       "      <th>2</th>\n",
       "    </tr>\n",
       "  </thead>\n",
       "  <tbody>\n",
       "    <tr>\n",
       "      <th>4</th>\n",
       "      <td>f1</td>\n",
       "      <td>f1</td>\n",
       "    </tr>\n",
       "    <tr>\n",
       "      <th>25</th>\n",
       "      <td>f2</td>\n",
       "      <td>f+1</td>\n",
       "    </tr>\n",
       "    <tr>\n",
       "      <th>44</th>\n",
       "      <td>m2</td>\n",
       "      <td>o3</td>\n",
       "    </tr>\n",
       "    <tr>\n",
       "      <th>45</th>\n",
       "      <td>f3</td>\n",
       "      <td>b+3</td>\n",
       "    </tr>\n",
       "    <tr>\n",
       "      <th>87</th>\n",
       "      <td>l3</td>\n",
       "      <td>o1*</td>\n",
       "    </tr>\n",
       "    <tr>\n",
       "      <th>...</th>\n",
       "      <td>...</td>\n",
       "      <td>...</td>\n",
       "    </tr>\n",
       "    <tr>\n",
       "      <th>19285</th>\n",
       "      <td>f1</td>\n",
       "      <td>f+3</td>\n",
       "    </tr>\n",
       "    <tr>\n",
       "      <th>19286</th>\n",
       "      <td>b3</td>\n",
       "      <td>z1w@</td>\n",
       "    </tr>\n",
       "    <tr>\n",
       "      <th>19295</th>\n",
       "      <td>b3</td>\n",
       "      <td>b2</td>\n",
       "    </tr>\n",
       "    <tr>\n",
       "      <th>19312</th>\n",
       "      <td>b3</td>\n",
       "      <td>b3</td>\n",
       "    </tr>\n",
       "    <tr>\n",
       "      <th>19319</th>\n",
       "      <td>s3</td>\n",
       "      <td>f3</td>\n",
       "    </tr>\n",
       "  </tbody>\n",
       "</table>\n",
       "<p>880 rows × 2 columns</p>\n",
       "</div>"
      ],
      "text/plain": [
       "        1     2\n",
       "4      f1    f1\n",
       "25     f2   f+1\n",
       "44     m2    o3\n",
       "45     f3   b+3\n",
       "87     l3   o1*\n",
       "...    ..   ...\n",
       "19285  f1   f+3\n",
       "19286  b3  z1w@\n",
       "19295  b3    b2\n",
       "19312  b3    b3\n",
       "19319  s3    f3\n",
       "\n",
       "[880 rows x 2 columns]"
      ]
     },
     "execution_count": 64,
     "metadata": {},
     "output_type": "execute_result"
    }
   ],
   "source": [
    "df_addition3 = df_serving_1st[[\"7\", \"8\"]]\n",
    "df_addition3 = df_addition3[df_addition3[\"7\"].notna()]\n",
    "df_addition3 = df_addition3[df_addition3[\"8\"].notna()]\n",
    "df_addition3.rename(columns={\"7\": \"1\", \"8\": \"2\"}, inplace = True)\n",
    "df_addition3"
   ]
  },
  {
   "cell_type": "code",
   "execution_count": 65,
   "metadata": {},
   "outputs": [
    {
     "data": {
      "text/html": [
       "<div>\n",
       "<style scoped>\n",
       "    .dataframe tbody tr th:only-of-type {\n",
       "        vertical-align: middle;\n",
       "    }\n",
       "\n",
       "    .dataframe tbody tr th {\n",
       "        vertical-align: top;\n",
       "    }\n",
       "\n",
       "    .dataframe thead th {\n",
       "        text-align: right;\n",
       "    }\n",
       "</style>\n",
       "<table border=\"1\" class=\"dataframe\">\n",
       "  <thead>\n",
       "    <tr style=\"text-align: right;\">\n",
       "      <th></th>\n",
       "      <th>1</th>\n",
       "      <th>2</th>\n",
       "    </tr>\n",
       "  </thead>\n",
       "  <tbody>\n",
       "    <tr>\n",
       "      <th>4</th>\n",
       "      <td>f3</td>\n",
       "      <td>b3</td>\n",
       "    </tr>\n",
       "    <tr>\n",
       "      <th>25</th>\n",
       "      <td>f2</td>\n",
       "      <td>z3</td>\n",
       "    </tr>\n",
       "    <tr>\n",
       "      <th>44</th>\n",
       "      <td>l2</td>\n",
       "      <td>v1*</td>\n",
       "    </tr>\n",
       "    <tr>\n",
       "      <th>194</th>\n",
       "      <td>f1</td>\n",
       "      <td>r2</td>\n",
       "    </tr>\n",
       "    <tr>\n",
       "      <th>233</th>\n",
       "      <td>b2</td>\n",
       "      <td>f1</td>\n",
       "    </tr>\n",
       "    <tr>\n",
       "      <th>...</th>\n",
       "      <td>...</td>\n",
       "      <td>...</td>\n",
       "    </tr>\n",
       "    <tr>\n",
       "      <th>19263</th>\n",
       "      <td>f3</td>\n",
       "      <td>s3</td>\n",
       "    </tr>\n",
       "    <tr>\n",
       "      <th>19285</th>\n",
       "      <td>m2</td>\n",
       "      <td>o-1*</td>\n",
       "    </tr>\n",
       "    <tr>\n",
       "      <th>19295</th>\n",
       "      <td>f1</td>\n",
       "      <td>f1</td>\n",
       "    </tr>\n",
       "    <tr>\n",
       "      <th>19312</th>\n",
       "      <td>b3</td>\n",
       "      <td>b2</td>\n",
       "    </tr>\n",
       "    <tr>\n",
       "      <th>19319</th>\n",
       "      <td>b3</td>\n",
       "      <td>f3</td>\n",
       "    </tr>\n",
       "  </tbody>\n",
       "</table>\n",
       "<p>544 rows × 2 columns</p>\n",
       "</div>"
      ],
      "text/plain": [
       "        1     2\n",
       "4      f3    b3\n",
       "25     f2    z3\n",
       "44     l2   v1*\n",
       "194    f1    r2\n",
       "233    b2    f1\n",
       "...    ..   ...\n",
       "19263  f3    s3\n",
       "19285  m2  o-1*\n",
       "19295  f1    f1\n",
       "19312  b3    b2\n",
       "19319  b3    f3\n",
       "\n",
       "[544 rows x 2 columns]"
      ]
     },
     "execution_count": 65,
     "metadata": {},
     "output_type": "execute_result"
    }
   ],
   "source": [
    "df_addition4 = df_serving_1st[[\"9\", \"10\"]]\n",
    "df_addition4 = df_addition4[df_addition4[\"9\"].notna()]\n",
    "df_addition4 = df_addition4[df_addition4[\"10\"].notna()]\n",
    "df_addition4.rename(columns={\"9\": \"1\", \"10\": \"2\"}, inplace = True)\n",
    "df_addition4"
   ]
  },
  {
   "cell_type": "code",
   "execution_count": 69,
   "metadata": {},
   "outputs": [
    {
     "data": {
      "text/html": [
       "<div>\n",
       "<style scoped>\n",
       "    .dataframe tbody tr th:only-of-type {\n",
       "        vertical-align: middle;\n",
       "    }\n",
       "\n",
       "    .dataframe tbody tr th {\n",
       "        vertical-align: top;\n",
       "    }\n",
       "\n",
       "    .dataframe thead th {\n",
       "        text-align: right;\n",
       "    }\n",
       "</style>\n",
       "<table border=\"1\" class=\"dataframe\">\n",
       "  <thead>\n",
       "    <tr style=\"text-align: right;\">\n",
       "      <th></th>\n",
       "      <th>1</th>\n",
       "      <th>2</th>\n",
       "    </tr>\n",
       "  </thead>\n",
       "  <tbody>\n",
       "    <tr>\n",
       "      <th>0</th>\n",
       "      <td>r28</td>\n",
       "      <td>f1</td>\n",
       "    </tr>\n",
       "    <tr>\n",
       "      <th>1</th>\n",
       "      <td>r37</td>\n",
       "      <td>b+3</td>\n",
       "    </tr>\n",
       "    <tr>\n",
       "      <th>2</th>\n",
       "      <td>r28</td>\n",
       "      <td>f1</td>\n",
       "    </tr>\n",
       "    <tr>\n",
       "      <th>3</th>\n",
       "      <td>b39</td>\n",
       "      <td>b2</td>\n",
       "    </tr>\n",
       "    <tr>\n",
       "      <th>4</th>\n",
       "      <td>f17</td>\n",
       "      <td>f+3</td>\n",
       "    </tr>\n",
       "    <tr>\n",
       "      <th>...</th>\n",
       "      <td>...</td>\n",
       "      <td>...</td>\n",
       "    </tr>\n",
       "    <tr>\n",
       "      <th>8710</th>\n",
       "      <td>f3</td>\n",
       "      <td>s3</td>\n",
       "    </tr>\n",
       "    <tr>\n",
       "      <th>8711</th>\n",
       "      <td>m2</td>\n",
       "      <td>o-1*</td>\n",
       "    </tr>\n",
       "    <tr>\n",
       "      <th>8712</th>\n",
       "      <td>f1</td>\n",
       "      <td>f1</td>\n",
       "    </tr>\n",
       "    <tr>\n",
       "      <th>8713</th>\n",
       "      <td>b3</td>\n",
       "      <td>b2</td>\n",
       "    </tr>\n",
       "    <tr>\n",
       "      <th>8714</th>\n",
       "      <td>b3</td>\n",
       "      <td>f3</td>\n",
       "    </tr>\n",
       "  </tbody>\n",
       "</table>\n",
       "<p>8715 rows × 2 columns</p>\n",
       "</div>"
      ],
      "text/plain": [
       "        1     2\n",
       "0     r28    f1\n",
       "1     r37   b+3\n",
       "2     r28    f1\n",
       "3     b39    b2\n",
       "4     f17   f+3\n",
       "...   ...   ...\n",
       "8710   f3    s3\n",
       "8711   m2  o-1*\n",
       "8712   f1    f1\n",
       "8713   b3    b2\n",
       "8714   b3    f3\n",
       "\n",
       "[8715 rows x 2 columns]"
      ]
     },
     "execution_count": 69,
     "metadata": {},
     "output_type": "execute_result"
    }
   ],
   "source": [
    "df_serving_1st_all_shot_pairs = pd.concat([df_serving_1st_all_shot_pairs, df_addition1, df_addition2, df_addition3, df_addition4], ignore_index = True)\n",
    "df_serving_1st_all_shot_pairs\n",
    "#df3 = df1.append(df2, ignore_index=True)"
   ]
  },
  {
   "cell_type": "code",
   "execution_count": 70,
   "metadata": {},
   "outputs": [
    {
     "data": {
      "text/plain": [
       "1666"
      ]
     },
     "execution_count": 70,
     "metadata": {},
     "output_type": "execute_result"
    }
   ],
   "source": [
    "# When the opponent played in dir 1:\n",
    "df_serving_1st_oppo_dir1 = df_serving_1st_all_shot_pairs.loc[df_serving_1st_all_shot_pairs[\"1\"].str.contains(\"1\", case = True)]\n",
    "len(df_serving_1st_oppo_dir1)"
   ]
  },
  {
   "cell_type": "code",
   "execution_count": 71,
   "metadata": {},
   "outputs": [
    {
     "data": {
      "text/plain": [
       "3876"
      ]
     },
     "execution_count": 71,
     "metadata": {},
     "output_type": "execute_result"
    }
   ],
   "source": [
    "df_serving_1st_oppo_dir2 = df_serving_1st_all_shot_pairs.loc[df_serving_1st_all_shot_pairs[\"1\"].str.contains(\"2\", case = True)]\n",
    "len(df_serving_1st_oppo_dir2)"
   ]
  },
  {
   "cell_type": "code",
   "execution_count": 72,
   "metadata": {},
   "outputs": [
    {
     "data": {
      "text/plain": [
       "3062"
      ]
     },
     "execution_count": 72,
     "metadata": {},
     "output_type": "execute_result"
    }
   ],
   "source": [
    "df_serving_1st_oppo_dir3 = df_serving_1st_all_shot_pairs.loc[df_serving_1st_all_shot_pairs[\"1\"].str.contains(\"3\", case = True)]\n",
    "len(df_serving_1st_oppo_dir3)"
   ]
  },
  {
   "cell_type": "code",
   "execution_count": 78,
   "metadata": {},
   "outputs": [
    {
     "data": {
      "text/plain": [
       "651"
      ]
     },
     "execution_count": 78,
     "metadata": {},
     "output_type": "execute_result"
    }
   ],
   "source": [
    "df_serving_1st_oppo_dir1_djoko_dir1 = df_serving_1st_oppo_dir1.loc[df_serving_1st_oppo_dir1[\"2\"].str.contains(\"1\", case = True)]\n",
    "len(df_serving_1st_oppo_dir1_djoko_dir1)"
   ]
  },
  {
   "cell_type": "code",
   "execution_count": 79,
   "metadata": {},
   "outputs": [
    {
     "data": {
      "text/plain": [
       "421"
      ]
     },
     "execution_count": 79,
     "metadata": {},
     "output_type": "execute_result"
    }
   ],
   "source": [
    "df_serving_1st_oppo_dir1_djoko_dir2 = df_serving_1st_oppo_dir1.loc[df_serving_1st_oppo_dir1[\"2\"].str.contains(\"2\", case = True)]\n",
    "len(df_serving_1st_oppo_dir1_djoko_dir2)"
   ]
  },
  {
   "cell_type": "code",
   "execution_count": 80,
   "metadata": {},
   "outputs": [
    {
     "data": {
      "text/plain": [
       "579"
      ]
     },
     "execution_count": 80,
     "metadata": {},
     "output_type": "execute_result"
    }
   ],
   "source": [
    "df_serving_1st_oppo_dir1_djoko_dir3 = df_serving_1st_oppo_dir1.loc[df_serving_1st_oppo_dir1[\"2\"].str.contains(\"3\", case = True)]\n",
    "len(df_serving_1st_oppo_dir1_djoko_dir3)"
   ]
  },
  {
   "cell_type": "code",
   "execution_count": 184,
   "metadata": {},
   "outputs": [
    {
     "data": {
      "text/plain": [
       "0"
      ]
     },
     "execution_count": 184,
     "metadata": {},
     "output_type": "execute_result"
    }
   ],
   "source": [
    "len(df_serving_1st_oppo_dir1_djoko_dir1.loc[df_serving_1st_oppo_dir1_djoko_dir1[\"2\"].str.contains(\"q\", case = True)])"
   ]
  },
  {
   "cell_type": "code",
   "execution_count": 185,
   "metadata": {},
   "outputs": [
    {
     "data": {
      "text/plain": [
       "0"
      ]
     },
     "execution_count": 185,
     "metadata": {},
     "output_type": "execute_result"
    }
   ],
   "source": [
    "len(df_serving_1st_oppo_dir1_djoko_dir2.loc[df_serving_1st_oppo_dir1_djoko_dir2[\"2\"].str.contains(\"q\", case = True)])"
   ]
  },
  {
   "cell_type": "code",
   "execution_count": 186,
   "metadata": {},
   "outputs": [
    {
     "data": {
      "text/plain": [
       "0"
      ]
     },
     "execution_count": 186,
     "metadata": {},
     "output_type": "execute_result"
    }
   ],
   "source": [
    "len(df_serving_1st_oppo_dir1_djoko_dir3.loc[df_serving_1st_oppo_dir1_djoko_dir3[\"2\"].str.contains(\"q\", case = True)])"
   ]
  },
  {
   "cell_type": "code",
   "execution_count": 190,
   "metadata": {},
   "outputs": [
    {
     "name": "stderr",
     "output_type": "stream",
     "text": [
      "C:\\Users\\carlo\\AppData\\Local\\Temp\\ipykernel_13516\\525225152.py:1: SettingWithCopyWarning: \n",
      "A value is trying to be set on a copy of a slice from a DataFrame.\n",
      "Try using .loc[row_indexer,col_indexer] = value instead\n",
      "\n",
      "See the caveats in the documentation: https://pandas.pydata.org/pandas-docs/stable/user_guide/indexing.html#returning-a-view-versus-a-copy\n",
      "  df_serving_1st_oppo_dir1_djoko_dir1[\"2\"] = df_serving_1st_oppo_dir1_djoko_dir1[\"2\"].str.replace('*', 'a')\n"
     ]
    },
    {
     "data": {
      "text/plain": [
       "80"
      ]
     },
     "execution_count": 190,
     "metadata": {},
     "output_type": "execute_result"
    }
   ],
   "source": [
    "\n",
    "df_serving_1st_oppo_dir1_djoko_dir1[\"2\"] = df_serving_1st_oppo_dir1_djoko_dir1[\"2\"].str.replace('*', 'a')\n",
    "len(df_serving_1st_oppo_dir1_djoko_dir1.loc[df_serving_1st_oppo_dir1_djoko_dir1[\"2\"].str.contains(\"a\", case = True)])"
   ]
  },
  {
   "cell_type": "code",
   "execution_count": 191,
   "metadata": {},
   "outputs": [
    {
     "name": "stderr",
     "output_type": "stream",
     "text": [
      "C:\\Users\\carlo\\AppData\\Local\\Temp\\ipykernel_13516\\1808784664.py:1: SettingWithCopyWarning: \n",
      "A value is trying to be set on a copy of a slice from a DataFrame.\n",
      "Try using .loc[row_indexer,col_indexer] = value instead\n",
      "\n",
      "See the caveats in the documentation: https://pandas.pydata.org/pandas-docs/stable/user_guide/indexing.html#returning-a-view-versus-a-copy\n",
      "  df_serving_1st_oppo_dir1_djoko_dir2[\"2\"] = df_serving_1st_oppo_dir1_djoko_dir2[\"2\"].str.replace('*', 'a')\n"
     ]
    },
    {
     "data": {
      "text/plain": [
       "10"
      ]
     },
     "execution_count": 191,
     "metadata": {},
     "output_type": "execute_result"
    }
   ],
   "source": [
    "\n",
    "df_serving_1st_oppo_dir1_djoko_dir2[\"2\"] = df_serving_1st_oppo_dir1_djoko_dir2[\"2\"].str.replace('*', 'a')\n",
    "len(df_serving_1st_oppo_dir1_djoko_dir2.loc[df_serving_1st_oppo_dir1_djoko_dir2[\"2\"].str.contains(\"a\", case = True)])"
   ]
  },
  {
   "cell_type": "code",
   "execution_count": 192,
   "metadata": {},
   "outputs": [
    {
     "name": "stderr",
     "output_type": "stream",
     "text": [
      "C:\\Users\\carlo\\AppData\\Local\\Temp\\ipykernel_13516\\2557179188.py:1: SettingWithCopyWarning: \n",
      "A value is trying to be set on a copy of a slice from a DataFrame.\n",
      "Try using .loc[row_indexer,col_indexer] = value instead\n",
      "\n",
      "See the caveats in the documentation: https://pandas.pydata.org/pandas-docs/stable/user_guide/indexing.html#returning-a-view-versus-a-copy\n",
      "  df_serving_1st_oppo_dir1_djoko_dir3[\"2\"] = df_serving_1st_oppo_dir1_djoko_dir3[\"2\"].str.replace('*', 'a')\n"
     ]
    },
    {
     "data": {
      "text/plain": [
       "69"
      ]
     },
     "execution_count": 192,
     "metadata": {},
     "output_type": "execute_result"
    }
   ],
   "source": [
    "\n",
    "df_serving_1st_oppo_dir1_djoko_dir3[\"2\"] = df_serving_1st_oppo_dir1_djoko_dir3[\"2\"].str.replace('*', 'a')\n",
    "len(df_serving_1st_oppo_dir1_djoko_dir3.loc[df_serving_1st_oppo_dir1_djoko_dir3[\"2\"].str.contains(\"a\", case = True)])"
   ]
  },
  {
   "cell_type": "code",
   "execution_count": 200,
   "metadata": {},
   "outputs": [
    {
     "data": {
      "text/plain": [
       "1442"
      ]
     },
     "execution_count": 200,
     "metadata": {},
     "output_type": "execute_result"
    }
   ],
   "source": [
    "df_serving_1st_oppo_dir2_djoko_dir_1 = df_serving_1st_oppo_dir2.loc[df_serving_1st_oppo_dir2[\"2\"].str.contains(\"1\", case = True)]\n",
    "len(df_serving_1st_oppo_dir2_djoko_dir_1)"
   ]
  },
  {
   "cell_type": "code",
   "execution_count": 201,
   "metadata": {},
   "outputs": [
    {
     "data": {
      "text/plain": [
       "782"
      ]
     },
     "execution_count": 201,
     "metadata": {},
     "output_type": "execute_result"
    }
   ],
   "source": [
    "df_serving_1st_oppo_dir2_djoko_dir_2 = df_serving_1st_oppo_dir2.loc[df_serving_1st_oppo_dir2[\"2\"].str.contains(\"2\", case = True)]\n",
    "len(df_serving_1st_oppo_dir2_djoko_dir_2)"
   ]
  },
  {
   "cell_type": "code",
   "execution_count": 202,
   "metadata": {},
   "outputs": [
    {
     "data": {
      "text/plain": [
       "1646"
      ]
     },
     "execution_count": 202,
     "metadata": {},
     "output_type": "execute_result"
    }
   ],
   "source": [
    "df_serving_1st_oppo_dir2_djoko_dir_3 = df_serving_1st_oppo_dir2.loc[df_serving_1st_oppo_dir2[\"2\"].str.contains(\"3\", case = True)]\n",
    "len(df_serving_1st_oppo_dir2_djoko_dir_3)"
   ]
  },
  {
   "cell_type": "code",
   "execution_count": 277,
   "metadata": {},
   "outputs": [
    {
     "data": {
      "text/plain": [
       "0"
      ]
     },
     "execution_count": 277,
     "metadata": {},
     "output_type": "execute_result"
    }
   ],
   "source": [
    "len(df_serving_1st_oppo_dir2_djoko_dir_1.loc[df_serving_1st_oppo_dir2_djoko_dir_1[\"2\"].str.contains(\"q\", case = True)])"
   ]
  },
  {
   "cell_type": "code",
   "execution_count": 278,
   "metadata": {},
   "outputs": [
    {
     "data": {
      "text/plain": [
       "0"
      ]
     },
     "execution_count": 278,
     "metadata": {},
     "output_type": "execute_result"
    }
   ],
   "source": [
    "len(df_serving_1st_oppo_dir2_djoko_dir_2.loc[df_serving_1st_oppo_dir2_djoko_dir_2[\"2\"].str.contains(\"q\", case = True)])"
   ]
  },
  {
   "cell_type": "code",
   "execution_count": 279,
   "metadata": {},
   "outputs": [
    {
     "data": {
      "text/plain": [
       "0"
      ]
     },
     "execution_count": 279,
     "metadata": {},
     "output_type": "execute_result"
    }
   ],
   "source": [
    "len(df_serving_1st_oppo_dir2_djoko_dir_3.loc[df_serving_1st_oppo_dir2_djoko_dir_3[\"2\"].str.contains(\"q\", case = True)])"
   ]
  },
  {
   "cell_type": "code",
   "execution_count": 280,
   "metadata": {},
   "outputs": [
    {
     "name": "stderr",
     "output_type": "stream",
     "text": [
      "C:\\Users\\carlo\\AppData\\Local\\Temp\\ipykernel_13516\\2629296103.py:1: SettingWithCopyWarning: \n",
      "A value is trying to be set on a copy of a slice from a DataFrame.\n",
      "Try using .loc[row_indexer,col_indexer] = value instead\n",
      "\n",
      "See the caveats in the documentation: https://pandas.pydata.org/pandas-docs/stable/user_guide/indexing.html#returning-a-view-versus-a-copy\n",
      "  df_serving_1st_oppo_dir2_djoko_dir_1[\"2\"] = df_serving_1st_oppo_dir2_djoko_dir_1[\"2\"].str.replace('*', 'a')\n"
     ]
    },
    {
     "data": {
      "text/plain": [
       "256"
      ]
     },
     "execution_count": 280,
     "metadata": {},
     "output_type": "execute_result"
    }
   ],
   "source": [
    "df_serving_1st_oppo_dir2_djoko_dir_1[\"2\"] = df_serving_1st_oppo_dir2_djoko_dir_1[\"2\"].str.replace('*', 'a')\n",
    "len(df_serving_1st_oppo_dir2_djoko_dir_1.loc[df_serving_1st_oppo_dir2_djoko_dir_1[\"2\"].str.contains(\"a\", case = True)])"
   ]
  },
  {
   "cell_type": "code",
   "execution_count": 281,
   "metadata": {},
   "outputs": [
    {
     "name": "stderr",
     "output_type": "stream",
     "text": [
      "C:\\Users\\carlo\\AppData\\Local\\Temp\\ipykernel_13516\\2989285210.py:1: SettingWithCopyWarning: \n",
      "A value is trying to be set on a copy of a slice from a DataFrame.\n",
      "Try using .loc[row_indexer,col_indexer] = value instead\n",
      "\n",
      "See the caveats in the documentation: https://pandas.pydata.org/pandas-docs/stable/user_guide/indexing.html#returning-a-view-versus-a-copy\n",
      "  df_serving_1st_oppo_dir2_djoko_dir_2[\"2\"] = df_serving_1st_oppo_dir2_djoko_dir_2[\"2\"].str.replace('*', 'a')\n"
     ]
    },
    {
     "data": {
      "text/plain": [
       "15"
      ]
     },
     "execution_count": 281,
     "metadata": {},
     "output_type": "execute_result"
    }
   ],
   "source": [
    "df_serving_1st_oppo_dir2_djoko_dir_2[\"2\"] = df_serving_1st_oppo_dir2_djoko_dir_2[\"2\"].str.replace('*', 'a')\n",
    "len(df_serving_1st_oppo_dir2_djoko_dir_2.loc[df_serving_1st_oppo_dir2_djoko_dir_2[\"2\"].str.contains(\"a\", case = True)])"
   ]
  },
  {
   "cell_type": "code",
   "execution_count": 282,
   "metadata": {},
   "outputs": [
    {
     "name": "stderr",
     "output_type": "stream",
     "text": [
      "C:\\Users\\carlo\\AppData\\Local\\Temp\\ipykernel_13516\\3308234143.py:1: SettingWithCopyWarning: \n",
      "A value is trying to be set on a copy of a slice from a DataFrame.\n",
      "Try using .loc[row_indexer,col_indexer] = value instead\n",
      "\n",
      "See the caveats in the documentation: https://pandas.pydata.org/pandas-docs/stable/user_guide/indexing.html#returning-a-view-versus-a-copy\n",
      "  df_serving_1st_oppo_dir2_djoko_dir_3[\"2\"] = df_serving_1st_oppo_dir2_djoko_dir_3[\"2\"].str.replace('*', 'a')\n"
     ]
    },
    {
     "data": {
      "text/plain": [
       "164"
      ]
     },
     "execution_count": 282,
     "metadata": {},
     "output_type": "execute_result"
    }
   ],
   "source": [
    "df_serving_1st_oppo_dir2_djoko_dir_3[\"2\"] = df_serving_1st_oppo_dir2_djoko_dir_3[\"2\"].str.replace('*', 'a')\n",
    "len(df_serving_1st_oppo_dir2_djoko_dir_3.loc[df_serving_1st_oppo_dir2_djoko_dir_3[\"2\"].str.contains(\"a\", case = True)])"
   ]
  },
  {
   "cell_type": "code",
   "execution_count": 283,
   "metadata": {},
   "outputs": [
    {
     "data": {
      "text/html": [
       "<div>\n",
       "<style scoped>\n",
       "    .dataframe tbody tr th:only-of-type {\n",
       "        vertical-align: middle;\n",
       "    }\n",
       "\n",
       "    .dataframe tbody tr th {\n",
       "        vertical-align: top;\n",
       "    }\n",
       "\n",
       "    .dataframe thead th {\n",
       "        text-align: right;\n",
       "    }\n",
       "</style>\n",
       "<table border=\"1\" class=\"dataframe\">\n",
       "  <thead>\n",
       "    <tr style=\"text-align: right;\">\n",
       "      <th></th>\n",
       "      <th>1</th>\n",
       "      <th>2</th>\n",
       "    </tr>\n",
       "  </thead>\n",
       "  <tbody>\n",
       "    <tr>\n",
       "      <th>1</th>\n",
       "      <td>r37</td>\n",
       "      <td>b+3</td>\n",
       "    </tr>\n",
       "    <tr>\n",
       "      <th>3</th>\n",
       "      <td>b39</td>\n",
       "      <td>b2</td>\n",
       "    </tr>\n",
       "    <tr>\n",
       "      <th>6</th>\n",
       "      <td>r38</td>\n",
       "      <td>b3</td>\n",
       "    </tr>\n",
       "    <tr>\n",
       "      <th>7</th>\n",
       "      <td>r38</td>\n",
       "      <td>f3</td>\n",
       "    </tr>\n",
       "    <tr>\n",
       "      <th>8</th>\n",
       "      <td>s37</td>\n",
       "      <td>b+3</td>\n",
       "    </tr>\n",
       "    <tr>\n",
       "      <th>...</th>\n",
       "      <td>...</td>\n",
       "      <td>...</td>\n",
       "    </tr>\n",
       "    <tr>\n",
       "      <th>8706</th>\n",
       "      <td>b+3</td>\n",
       "      <td>s#</td>\n",
       "    </tr>\n",
       "    <tr>\n",
       "      <th>8707</th>\n",
       "      <td>b3</td>\n",
       "      <td>b3</td>\n",
       "    </tr>\n",
       "    <tr>\n",
       "      <th>8710</th>\n",
       "      <td>f3</td>\n",
       "      <td>s3</td>\n",
       "    </tr>\n",
       "    <tr>\n",
       "      <th>8713</th>\n",
       "      <td>b3</td>\n",
       "      <td>b2</td>\n",
       "    </tr>\n",
       "    <tr>\n",
       "      <th>8714</th>\n",
       "      <td>b3</td>\n",
       "      <td>f3</td>\n",
       "    </tr>\n",
       "  </tbody>\n",
       "</table>\n",
       "<p>3062 rows × 2 columns</p>\n",
       "</div>"
      ],
      "text/plain": [
       "        1    2\n",
       "1     r37  b+3\n",
       "3     b39   b2\n",
       "6     r38   b3\n",
       "7     r38   f3\n",
       "8     s37  b+3\n",
       "...   ...  ...\n",
       "8706  b+3   s#\n",
       "8707   b3   b3\n",
       "8710   f3   s3\n",
       "8713   b3   b2\n",
       "8714   b3   f3\n",
       "\n",
       "[3062 rows x 2 columns]"
      ]
     },
     "execution_count": 283,
     "metadata": {},
     "output_type": "execute_result"
    }
   ],
   "source": [
    "df_serving_1st_oppo_dir3"
   ]
  },
  {
   "cell_type": "code",
   "execution_count": 287,
   "metadata": {},
   "outputs": [
    {
     "data": {
      "text/plain": [
       "934"
      ]
     },
     "execution_count": 287,
     "metadata": {},
     "output_type": "execute_result"
    }
   ],
   "source": [
    "df_serving_1st_oppo_dir3_djoko_dir_1 = df_serving_1st_oppo_dir3.loc[df_serving_1st_oppo_dir3[\"2\"].str.contains(\"1\", case = True)]\n",
    "len(df_serving_1st_oppo_dir3_djoko_dir_1)"
   ]
  },
  {
   "cell_type": "code",
   "execution_count": 288,
   "metadata": {},
   "outputs": [
    {
     "data": {
      "text/plain": [
       "602"
      ]
     },
     "execution_count": 288,
     "metadata": {},
     "output_type": "execute_result"
    }
   ],
   "source": [
    "df_serving_1st_oppo_dir3_djoko_dir_2 = df_serving_1st_oppo_dir3.loc[df_serving_1st_oppo_dir3[\"2\"].str.contains(\"2\", case = True)]\n",
    "len(df_serving_1st_oppo_dir3_djoko_dir_2)"
   ]
  },
  {
   "cell_type": "code",
   "execution_count": 289,
   "metadata": {},
   "outputs": [
    {
     "data": {
      "text/plain": [
       "1511"
      ]
     },
     "execution_count": 289,
     "metadata": {},
     "output_type": "execute_result"
    }
   ],
   "source": [
    "df_serving_1st_oppo_dir3_djoko_dir_3 = df_serving_1st_oppo_dir3.loc[df_serving_1st_oppo_dir3[\"2\"].str.contains(\"3\", case = True)]\n",
    "len(df_serving_1st_oppo_dir3_djoko_dir_3)"
   ]
  },
  {
   "cell_type": "code",
   "execution_count": 365,
   "metadata": {},
   "outputs": [
    {
     "data": {
      "text/plain": [
       "47"
      ]
     },
     "execution_count": 365,
     "metadata": {},
     "output_type": "execute_result"
    }
   ],
   "source": [
    "len(df_serving_1st_oppo_dir3_djoko_dir_1.loc[df_serving_1st_oppo_dir3_djoko_dir_1[\"2\"].str.contains(\"9\", case = True)])"
   ]
  },
  {
   "cell_type": "code",
   "execution_count": 366,
   "metadata": {},
   "outputs": [
    {
     "data": {
      "text/plain": [
       "60"
      ]
     },
     "execution_count": 366,
     "metadata": {},
     "output_type": "execute_result"
    }
   ],
   "source": [
    "len(df_serving_1st_oppo_dir3_djoko_dir_2.loc[df_serving_1st_oppo_dir3_djoko_dir_2[\"2\"].str.contains(\"9\", case = True)])"
   ]
  },
  {
   "cell_type": "code",
   "execution_count": 367,
   "metadata": {},
   "outputs": [
    {
     "data": {
      "text/plain": [
       "100"
      ]
     },
     "execution_count": 367,
     "metadata": {},
     "output_type": "execute_result"
    }
   ],
   "source": [
    "len(df_serving_1st_oppo_dir3_djoko_dir_3.loc[df_serving_1st_oppo_dir3_djoko_dir_3[\"2\"].str.contains(\"9\", case = True)])"
   ]
  },
  {
   "cell_type": "code",
   "execution_count": 368,
   "metadata": {},
   "outputs": [
    {
     "name": "stderr",
     "output_type": "stream",
     "text": [
      "C:\\Users\\carlo\\AppData\\Local\\Temp\\ipykernel_13516\\284337065.py:1: SettingWithCopyWarning: \n",
      "A value is trying to be set on a copy of a slice from a DataFrame.\n",
      "Try using .loc[row_indexer,col_indexer] = value instead\n",
      "\n",
      "See the caveats in the documentation: https://pandas.pydata.org/pandas-docs/stable/user_guide/indexing.html#returning-a-view-versus-a-copy\n",
      "  df_serving_1st_oppo_dir3_djoko_dir_1[\"2\"] = df_serving_1st_oppo_dir3_djoko_dir_1[\"2\"].str.replace('*', 'a')\n"
     ]
    },
    {
     "data": {
      "text/plain": [
       "160"
      ]
     },
     "execution_count": 368,
     "metadata": {},
     "output_type": "execute_result"
    }
   ],
   "source": [
    "df_serving_1st_oppo_dir3_djoko_dir_1[\"2\"] = df_serving_1st_oppo_dir3_djoko_dir_1[\"2\"].str.replace('*', 'a')\n",
    "len(df_serving_1st_oppo_dir3_djoko_dir_1.loc[df_serving_1st_oppo_dir3_djoko_dir_1[\"2\"].str.contains(\"a\", case = True)])"
   ]
  },
  {
   "cell_type": "code",
   "execution_count": 369,
   "metadata": {},
   "outputs": [
    {
     "name": "stderr",
     "output_type": "stream",
     "text": [
      "C:\\Users\\carlo\\AppData\\Local\\Temp\\ipykernel_13516\\1624933272.py:1: SettingWithCopyWarning: \n",
      "A value is trying to be set on a copy of a slice from a DataFrame.\n",
      "Try using .loc[row_indexer,col_indexer] = value instead\n",
      "\n",
      "See the caveats in the documentation: https://pandas.pydata.org/pandas-docs/stable/user_guide/indexing.html#returning-a-view-versus-a-copy\n",
      "  df_serving_1st_oppo_dir3_djoko_dir_2[\"2\"] = df_serving_1st_oppo_dir3_djoko_dir_2[\"2\"].str.replace('*', 'a')\n"
     ]
    },
    {
     "data": {
      "text/plain": [
       "15"
      ]
     },
     "execution_count": 369,
     "metadata": {},
     "output_type": "execute_result"
    }
   ],
   "source": [
    "df_serving_1st_oppo_dir3_djoko_dir_2[\"2\"] = df_serving_1st_oppo_dir3_djoko_dir_2[\"2\"].str.replace('*', 'a')\n",
    "len(df_serving_1st_oppo_dir3_djoko_dir_2.loc[df_serving_1st_oppo_dir3_djoko_dir_2[\"2\"].str.contains(\"a\", case = True)])"
   ]
  },
  {
   "cell_type": "code",
   "execution_count": 370,
   "metadata": {},
   "outputs": [
    {
     "name": "stderr",
     "output_type": "stream",
     "text": [
      "C:\\Users\\carlo\\AppData\\Local\\Temp\\ipykernel_13516\\598932994.py:1: SettingWithCopyWarning: \n",
      "A value is trying to be set on a copy of a slice from a DataFrame.\n",
      "Try using .loc[row_indexer,col_indexer] = value instead\n",
      "\n",
      "See the caveats in the documentation: https://pandas.pydata.org/pandas-docs/stable/user_guide/indexing.html#returning-a-view-versus-a-copy\n",
      "  df_serving_1st_oppo_dir3_djoko_dir_3[\"2\"] = df_serving_1st_oppo_dir3_djoko_dir_3[\"2\"].str.replace('*', 'a')\n"
     ]
    },
    {
     "data": {
      "text/plain": [
       "97"
      ]
     },
     "execution_count": 370,
     "metadata": {},
     "output_type": "execute_result"
    }
   ],
   "source": [
    "df_serving_1st_oppo_dir3_djoko_dir_3[\"2\"] = df_serving_1st_oppo_dir3_djoko_dir_3[\"2\"].str.replace('*', 'a')\n",
    "len(df_serving_1st_oppo_dir3_djoko_dir_3.loc[df_serving_1st_oppo_dir3_djoko_dir_3[\"2\"].str.contains(\"a\", case = True)])"
   ]
  },
  {
   "cell_type": "code",
   "execution_count": 371,
   "metadata": {},
   "outputs": [
    {
     "data": {
      "text/html": [
       "<div>\n",
       "<style scoped>\n",
       "    .dataframe tbody tr th:only-of-type {\n",
       "        vertical-align: middle;\n",
       "    }\n",
       "\n",
       "    .dataframe tbody tr th {\n",
       "        vertical-align: top;\n",
       "    }\n",
       "\n",
       "    .dataframe thead th {\n",
       "        text-align: right;\n",
       "    }\n",
       "</style>\n",
       "<table border=\"1\" class=\"dataframe\">\n",
       "  <thead>\n",
       "    <tr style=\"text-align: right;\">\n",
       "      <th></th>\n",
       "      <th>Pts</th>\n",
       "      <th>Gm1</th>\n",
       "      <th>Gm2</th>\n",
       "      <th>Set1</th>\n",
       "      <th>Set2</th>\n",
       "      <th>Serving</th>\n",
       "      <th>0</th>\n",
       "      <th>1</th>\n",
       "      <th>2</th>\n",
       "      <th>3</th>\n",
       "      <th>...</th>\n",
       "      <th>44</th>\n",
       "      <th>45</th>\n",
       "      <th>46</th>\n",
       "      <th>47</th>\n",
       "      <th>48</th>\n",
       "      <th>49</th>\n",
       "      <th>50</th>\n",
       "      <th>51</th>\n",
       "      <th>52</th>\n",
       "      <th>53</th>\n",
       "    </tr>\n",
       "  </thead>\n",
       "  <tbody>\n",
       "    <tr>\n",
       "      <th>0</th>\n",
       "      <td>0-0</td>\n",
       "      <td>0</td>\n",
       "      <td>0</td>\n",
       "      <td>0</td>\n",
       "      <td>0</td>\n",
       "      <td>ND</td>\n",
       "      <td>4n,</td>\n",
       "      <td>4</td>\n",
       "      <td>f18</td>\n",
       "      <td>f3</td>\n",
       "      <td>...</td>\n",
       "      <td>NaN</td>\n",
       "      <td>NaN</td>\n",
       "      <td>NaN</td>\n",
       "      <td>NaN</td>\n",
       "      <td>NaN</td>\n",
       "      <td>NaN</td>\n",
       "      <td>NaN</td>\n",
       "      <td>NaN</td>\n",
       "      <td>NaN</td>\n",
       "      <td>NaN</td>\n",
       "    </tr>\n",
       "    <tr>\n",
       "      <th>1</th>\n",
       "      <td>0-15</td>\n",
       "      <td>0</td>\n",
       "      <td>0</td>\n",
       "      <td>0</td>\n",
       "      <td>0</td>\n",
       "      <td>ND</td>\n",
       "      <td>4n,</td>\n",
       "      <td>6</td>\n",
       "      <td>f2n#</td>\n",
       "      <td>NaN</td>\n",
       "      <td>...</td>\n",
       "      <td>NaN</td>\n",
       "      <td>NaN</td>\n",
       "      <td>NaN</td>\n",
       "      <td>NaN</td>\n",
       "      <td>NaN</td>\n",
       "      <td>NaN</td>\n",
       "      <td>NaN</td>\n",
       "      <td>NaN</td>\n",
       "      <td>NaN</td>\n",
       "      <td>NaN</td>\n",
       "    </tr>\n",
       "    <tr>\n",
       "      <th>3</th>\n",
       "      <td>30-15</td>\n",
       "      <td>0</td>\n",
       "      <td>0</td>\n",
       "      <td>0</td>\n",
       "      <td>0</td>\n",
       "      <td>ND</td>\n",
       "      <td>4n,</td>\n",
       "      <td>5</td>\n",
       "      <td>b3n@</td>\n",
       "      <td>NaN</td>\n",
       "      <td>...</td>\n",
       "      <td>NaN</td>\n",
       "      <td>NaN</td>\n",
       "      <td>NaN</td>\n",
       "      <td>NaN</td>\n",
       "      <td>NaN</td>\n",
       "      <td>NaN</td>\n",
       "      <td>NaN</td>\n",
       "      <td>NaN</td>\n",
       "      <td>NaN</td>\n",
       "      <td>NaN</td>\n",
       "    </tr>\n",
       "    <tr>\n",
       "      <th>14</th>\n",
       "      <td>0-15</td>\n",
       "      <td>1</td>\n",
       "      <td>1</td>\n",
       "      <td>0</td>\n",
       "      <td>0</td>\n",
       "      <td>ND</td>\n",
       "      <td>4n,</td>\n",
       "      <td>5</td>\n",
       "      <td>b28</td>\n",
       "      <td>f3</td>\n",
       "      <td>...</td>\n",
       "      <td>NaN</td>\n",
       "      <td>NaN</td>\n",
       "      <td>NaN</td>\n",
       "      <td>NaN</td>\n",
       "      <td>NaN</td>\n",
       "      <td>NaN</td>\n",
       "      <td>NaN</td>\n",
       "      <td>NaN</td>\n",
       "      <td>NaN</td>\n",
       "      <td>NaN</td>\n",
       "    </tr>\n",
       "    <tr>\n",
       "      <th>15</th>\n",
       "      <td>0-30</td>\n",
       "      <td>1</td>\n",
       "      <td>1</td>\n",
       "      <td>0</td>\n",
       "      <td>0</td>\n",
       "      <td>ND</td>\n",
       "      <td>4d,</td>\n",
       "      <td>6</td>\n",
       "      <td>b28</td>\n",
       "      <td>f2</td>\n",
       "      <td>...</td>\n",
       "      <td>NaN</td>\n",
       "      <td>NaN</td>\n",
       "      <td>NaN</td>\n",
       "      <td>NaN</td>\n",
       "      <td>NaN</td>\n",
       "      <td>NaN</td>\n",
       "      <td>NaN</td>\n",
       "      <td>NaN</td>\n",
       "      <td>NaN</td>\n",
       "      <td>NaN</td>\n",
       "    </tr>\n",
       "    <tr>\n",
       "      <th>...</th>\n",
       "      <td>...</td>\n",
       "      <td>...</td>\n",
       "      <td>...</td>\n",
       "      <td>...</td>\n",
       "      <td>...</td>\n",
       "      <td>...</td>\n",
       "      <td>...</td>\n",
       "      <td>...</td>\n",
       "      <td>...</td>\n",
       "      <td>...</td>\n",
       "      <td>...</td>\n",
       "      <td>...</td>\n",
       "      <td>...</td>\n",
       "      <td>...</td>\n",
       "      <td>...</td>\n",
       "      <td>...</td>\n",
       "      <td>...</td>\n",
       "      <td>...</td>\n",
       "      <td>...</td>\n",
       "      <td>...</td>\n",
       "      <td>...</td>\n",
       "    </tr>\n",
       "    <tr>\n",
       "      <th>19300</th>\n",
       "      <td>40-40</td>\n",
       "      <td>2</td>\n",
       "      <td>3</td>\n",
       "      <td>1</td>\n",
       "      <td>1</td>\n",
       "      <td>ND</td>\n",
       "      <td>6n,</td>\n",
       "      <td>4</td>\n",
       "      <td>f27</td>\n",
       "      <td>b2</td>\n",
       "      <td>...</td>\n",
       "      <td>NaN</td>\n",
       "      <td>NaN</td>\n",
       "      <td>NaN</td>\n",
       "      <td>NaN</td>\n",
       "      <td>NaN</td>\n",
       "      <td>NaN</td>\n",
       "      <td>NaN</td>\n",
       "      <td>NaN</td>\n",
       "      <td>NaN</td>\n",
       "      <td>NaN</td>\n",
       "    </tr>\n",
       "    <tr>\n",
       "      <th>19303</th>\n",
       "      <td>AD-40</td>\n",
       "      <td>2</td>\n",
       "      <td>3</td>\n",
       "      <td>1</td>\n",
       "      <td>1</td>\n",
       "      <td>ND</td>\n",
       "      <td>4x,</td>\n",
       "      <td>6</td>\n",
       "      <td>f39</td>\n",
       "      <td>b3</td>\n",
       "      <td>...</td>\n",
       "      <td>NaN</td>\n",
       "      <td>NaN</td>\n",
       "      <td>NaN</td>\n",
       "      <td>NaN</td>\n",
       "      <td>NaN</td>\n",
       "      <td>NaN</td>\n",
       "      <td>NaN</td>\n",
       "      <td>NaN</td>\n",
       "      <td>NaN</td>\n",
       "      <td>NaN</td>\n",
       "    </tr>\n",
       "    <tr>\n",
       "      <th>19320</th>\n",
       "      <td>0-30</td>\n",
       "      <td>5</td>\n",
       "      <td>4</td>\n",
       "      <td>1</td>\n",
       "      <td>1</td>\n",
       "      <td>ND</td>\n",
       "      <td>6w,</td>\n",
       "      <td>5</td>\n",
       "      <td>b39</td>\n",
       "      <td>b2</td>\n",
       "      <td>...</td>\n",
       "      <td>NaN</td>\n",
       "      <td>NaN</td>\n",
       "      <td>NaN</td>\n",
       "      <td>NaN</td>\n",
       "      <td>NaN</td>\n",
       "      <td>NaN</td>\n",
       "      <td>NaN</td>\n",
       "      <td>NaN</td>\n",
       "      <td>NaN</td>\n",
       "      <td>NaN</td>\n",
       "    </tr>\n",
       "    <tr>\n",
       "      <th>19322</th>\n",
       "      <td>30-30</td>\n",
       "      <td>5</td>\n",
       "      <td>4</td>\n",
       "      <td>1</td>\n",
       "      <td>1</td>\n",
       "      <td>ND</td>\n",
       "      <td>4d,</td>\n",
       "      <td>4</td>\n",
       "      <td>f19</td>\n",
       "      <td>f3</td>\n",
       "      <td>...</td>\n",
       "      <td>NaN</td>\n",
       "      <td>NaN</td>\n",
       "      <td>NaN</td>\n",
       "      <td>NaN</td>\n",
       "      <td>NaN</td>\n",
       "      <td>NaN</td>\n",
       "      <td>NaN</td>\n",
       "      <td>NaN</td>\n",
       "      <td>NaN</td>\n",
       "      <td>NaN</td>\n",
       "    </tr>\n",
       "    <tr>\n",
       "      <th>19323</th>\n",
       "      <td>40-30</td>\n",
       "      <td>5</td>\n",
       "      <td>4</td>\n",
       "      <td>1</td>\n",
       "      <td>1</td>\n",
       "      <td>ND</td>\n",
       "      <td>6n,</td>\n",
       "      <td>5</td>\n",
       "      <td>f39</td>\n",
       "      <td>b2</td>\n",
       "      <td>...</td>\n",
       "      <td>NaN</td>\n",
       "      <td>NaN</td>\n",
       "      <td>NaN</td>\n",
       "      <td>NaN</td>\n",
       "      <td>NaN</td>\n",
       "      <td>NaN</td>\n",
       "      <td>NaN</td>\n",
       "      <td>NaN</td>\n",
       "      <td>NaN</td>\n",
       "      <td>NaN</td>\n",
       "    </tr>\n",
       "  </tbody>\n",
       "</table>\n",
       "<p>2845 rows × 60 columns</p>\n",
       "</div>"
      ],
      "text/plain": [
       "         Pts  Gm1  Gm2  Set1  Set2 Serving    0  1     2    3  ...   44   45  \\\n",
       "0        0-0    0    0     0     0      ND  4n,  4   f18   f3  ...  NaN  NaN   \n",
       "1       0-15    0    0     0     0      ND  4n,  6  f2n#  NaN  ...  NaN  NaN   \n",
       "3      30-15    0    0     0     0      ND  4n,  5  b3n@  NaN  ...  NaN  NaN   \n",
       "14      0-15    1    1     0     0      ND  4n,  5   b28   f3  ...  NaN  NaN   \n",
       "15      0-30    1    1     0     0      ND  4d,  6   b28   f2  ...  NaN  NaN   \n",
       "...      ...  ...  ...   ...   ...     ...  ... ..   ...  ...  ...  ...  ...   \n",
       "19300  40-40    2    3     1     1      ND  6n,  4   f27   b2  ...  NaN  NaN   \n",
       "19303  AD-40    2    3     1     1      ND  4x,  6   f39   b3  ...  NaN  NaN   \n",
       "19320   0-30    5    4     1     1      ND  6w,  5   b39   b2  ...  NaN  NaN   \n",
       "19322  30-30    5    4     1     1      ND  4d,  4   f19   f3  ...  NaN  NaN   \n",
       "19323  40-30    5    4     1     1      ND  6n,  5   f39   b2  ...  NaN  NaN   \n",
       "\n",
       "        46   47   48   49   50   51   52   53  \n",
       "0      NaN  NaN  NaN  NaN  NaN  NaN  NaN  NaN  \n",
       "1      NaN  NaN  NaN  NaN  NaN  NaN  NaN  NaN  \n",
       "3      NaN  NaN  NaN  NaN  NaN  NaN  NaN  NaN  \n",
       "14     NaN  NaN  NaN  NaN  NaN  NaN  NaN  NaN  \n",
       "15     NaN  NaN  NaN  NaN  NaN  NaN  NaN  NaN  \n",
       "...    ...  ...  ...  ...  ...  ...  ...  ...  \n",
       "19300  NaN  NaN  NaN  NaN  NaN  NaN  NaN  NaN  \n",
       "19303  NaN  NaN  NaN  NaN  NaN  NaN  NaN  NaN  \n",
       "19320  NaN  NaN  NaN  NaN  NaN  NaN  NaN  NaN  \n",
       "19322  NaN  NaN  NaN  NaN  NaN  NaN  NaN  NaN  \n",
       "19323  NaN  NaN  NaN  NaN  NaN  NaN  NaN  NaN  \n",
       "\n",
       "[2845 rows x 60 columns]"
      ]
     },
     "execution_count": 371,
     "metadata": {},
     "output_type": "execute_result"
    }
   ],
   "source": [
    "# When Djokovic is opening the ralley with a second serve we have to look at Djokos Shots: \"3\", \"5\", \"7\" and so on\n",
    "df_serving_2nd"
   ]
  },
  {
   "cell_type": "code",
   "execution_count": 374,
   "metadata": {},
   "outputs": [
    {
     "data": {
      "text/html": [
       "<div>\n",
       "<style scoped>\n",
       "    .dataframe tbody tr th:only-of-type {\n",
       "        vertical-align: middle;\n",
       "    }\n",
       "\n",
       "    .dataframe tbody tr th {\n",
       "        vertical-align: top;\n",
       "    }\n",
       "\n",
       "    .dataframe thead th {\n",
       "        text-align: right;\n",
       "    }\n",
       "</style>\n",
       "<table border=\"1\" class=\"dataframe\">\n",
       "  <thead>\n",
       "    <tr style=\"text-align: right;\">\n",
       "      <th></th>\n",
       "      <th>2</th>\n",
       "      <th>3</th>\n",
       "    </tr>\n",
       "  </thead>\n",
       "  <tbody>\n",
       "    <tr>\n",
       "      <th>0</th>\n",
       "      <td>f18</td>\n",
       "      <td>f3</td>\n",
       "    </tr>\n",
       "    <tr>\n",
       "      <th>1</th>\n",
       "      <td>f2n#</td>\n",
       "      <td>NaN</td>\n",
       "    </tr>\n",
       "    <tr>\n",
       "      <th>3</th>\n",
       "      <td>b3n@</td>\n",
       "      <td>NaN</td>\n",
       "    </tr>\n",
       "    <tr>\n",
       "      <th>14</th>\n",
       "      <td>b28</td>\n",
       "      <td>f3</td>\n",
       "    </tr>\n",
       "    <tr>\n",
       "      <th>15</th>\n",
       "      <td>b28</td>\n",
       "      <td>f2</td>\n",
       "    </tr>\n",
       "    <tr>\n",
       "      <th>...</th>\n",
       "      <td>...</td>\n",
       "      <td>...</td>\n",
       "    </tr>\n",
       "    <tr>\n",
       "      <th>19300</th>\n",
       "      <td>f27</td>\n",
       "      <td>b2</td>\n",
       "    </tr>\n",
       "    <tr>\n",
       "      <th>19303</th>\n",
       "      <td>f39</td>\n",
       "      <td>b3</td>\n",
       "    </tr>\n",
       "    <tr>\n",
       "      <th>19320</th>\n",
       "      <td>b39</td>\n",
       "      <td>b2</td>\n",
       "    </tr>\n",
       "    <tr>\n",
       "      <th>19322</th>\n",
       "      <td>f19</td>\n",
       "      <td>f3</td>\n",
       "    </tr>\n",
       "    <tr>\n",
       "      <th>19323</th>\n",
       "      <td>f39</td>\n",
       "      <td>b2</td>\n",
       "    </tr>\n",
       "  </tbody>\n",
       "</table>\n",
       "<p>2845 rows × 2 columns</p>\n",
       "</div>"
      ],
      "text/plain": [
       "          2    3\n",
       "0       f18   f3\n",
       "1      f2n#  NaN\n",
       "3      b3n@  NaN\n",
       "14      b28   f3\n",
       "15      b28   f2\n",
       "...     ...  ...\n",
       "19300   f27   b2\n",
       "19303   f39   b3\n",
       "19320   b39   b2\n",
       "19322   f19   f3\n",
       "19323   f39   b2\n",
       "\n",
       "[2845 rows x 2 columns]"
      ]
     },
     "execution_count": 374,
     "metadata": {},
     "output_type": "execute_result"
    }
   ],
   "source": [
    "df_serving_2nd_all_shot_pairs = df_serving_2nd[[\"2\", \"3\"]]\n",
    "df_serving_2nd_all_shot_pairs = df_serving_2nd_all_shot_pairs[df_serving_2nd_all_shot_pairs['2'].notna()]\n",
    "df_serving_2nd_all_shot_pairs"
   ]
  },
  {
   "cell_type": "code",
   "execution_count": 375,
   "metadata": {},
   "outputs": [
    {
     "data": {
      "text/html": [
       "<div>\n",
       "<style scoped>\n",
       "    .dataframe tbody tr th:only-of-type {\n",
       "        vertical-align: middle;\n",
       "    }\n",
       "\n",
       "    .dataframe tbody tr th {\n",
       "        vertical-align: top;\n",
       "    }\n",
       "\n",
       "    .dataframe thead th {\n",
       "        text-align: right;\n",
       "    }\n",
       "</style>\n",
       "<table border=\"1\" class=\"dataframe\">\n",
       "  <thead>\n",
       "    <tr style=\"text-align: right;\">\n",
       "      <th></th>\n",
       "      <th>2</th>\n",
       "      <th>3</th>\n",
       "    </tr>\n",
       "  </thead>\n",
       "  <tbody>\n",
       "    <tr>\n",
       "      <th>0</th>\n",
       "      <td>s2</td>\n",
       "      <td>f1</td>\n",
       "    </tr>\n",
       "    <tr>\n",
       "      <th>14</th>\n",
       "      <td>b2</td>\n",
       "      <td>f3</td>\n",
       "    </tr>\n",
       "    <tr>\n",
       "      <th>15</th>\n",
       "      <td>f1</td>\n",
       "      <td>f1</td>\n",
       "    </tr>\n",
       "    <tr>\n",
       "      <th>23</th>\n",
       "      <td>b1</td>\n",
       "      <td>f1*</td>\n",
       "    </tr>\n",
       "    <tr>\n",
       "      <th>53</th>\n",
       "      <td>b2</td>\n",
       "      <td>f1</td>\n",
       "    </tr>\n",
       "    <tr>\n",
       "      <th>...</th>\n",
       "      <td>...</td>\n",
       "      <td>...</td>\n",
       "    </tr>\n",
       "    <tr>\n",
       "      <th>19300</th>\n",
       "      <td>s3</td>\n",
       "      <td>s3</td>\n",
       "    </tr>\n",
       "    <tr>\n",
       "      <th>19303</th>\n",
       "      <td>s3</td>\n",
       "      <td>f3</td>\n",
       "    </tr>\n",
       "    <tr>\n",
       "      <th>19320</th>\n",
       "      <td>b2</td>\n",
       "      <td>f3</td>\n",
       "    </tr>\n",
       "    <tr>\n",
       "      <th>19322</th>\n",
       "      <td>b3</td>\n",
       "      <td>b3</td>\n",
       "    </tr>\n",
       "    <tr>\n",
       "      <th>19323</th>\n",
       "      <td>f3</td>\n",
       "      <td>b1</td>\n",
       "    </tr>\n",
       "  </tbody>\n",
       "</table>\n",
       "<p>1674 rows × 2 columns</p>\n",
       "</div>"
      ],
      "text/plain": [
       "        2    3\n",
       "0      s2   f1\n",
       "14     b2   f3\n",
       "15     f1   f1\n",
       "23     b1  f1*\n",
       "53     b2   f1\n",
       "...    ..  ...\n",
       "19300  s3   s3\n",
       "19303  s3   f3\n",
       "19320  b2   f3\n",
       "19322  b3   b3\n",
       "19323  f3   b1\n",
       "\n",
       "[1674 rows x 2 columns]"
      ]
     },
     "execution_count": 375,
     "metadata": {},
     "output_type": "execute_result"
    }
   ],
   "source": [
    "df_addition1_1 = df_serving_2nd[[\"4\", \"5\"]]\n",
    "df_addition1_1 = df_addition1_1[df_addition1_1[\"4\"].notna()]\n",
    "df_addition1_1 = df_addition1_1[df_addition1_1[\"5\"].notna()]\n",
    "df_addition1_1.rename(columns={\"4\": \"2\", \"5\": \"3\"}, inplace = True)\n",
    "df_addition1_1"
   ]
  },
  {
   "cell_type": "code",
   "execution_count": 376,
   "metadata": {},
   "outputs": [
    {
     "data": {
      "text/html": [
       "<div>\n",
       "<style scoped>\n",
       "    .dataframe tbody tr th:only-of-type {\n",
       "        vertical-align: middle;\n",
       "    }\n",
       "\n",
       "    .dataframe tbody tr th {\n",
       "        vertical-align: top;\n",
       "    }\n",
       "\n",
       "    .dataframe thead th {\n",
       "        text-align: right;\n",
       "    }\n",
       "</style>\n",
       "<table border=\"1\" class=\"dataframe\">\n",
       "  <thead>\n",
       "    <tr style=\"text-align: right;\">\n",
       "      <th></th>\n",
       "      <th>2</th>\n",
       "      <th>3</th>\n",
       "    </tr>\n",
       "  </thead>\n",
       "  <tbody>\n",
       "    <tr>\n",
       "      <th>0</th>\n",
       "      <td>f3</td>\n",
       "      <td>b3n@</td>\n",
       "    </tr>\n",
       "    <tr>\n",
       "      <th>14</th>\n",
       "      <td>b3</td>\n",
       "      <td>f2</td>\n",
       "    </tr>\n",
       "    <tr>\n",
       "      <th>15</th>\n",
       "      <td>f3</td>\n",
       "      <td>b3</td>\n",
       "    </tr>\n",
       "    <tr>\n",
       "      <th>53</th>\n",
       "      <td>f1</td>\n",
       "      <td>f3</td>\n",
       "    </tr>\n",
       "    <tr>\n",
       "      <th>66</th>\n",
       "      <td>f1</td>\n",
       "      <td>h3n#</td>\n",
       "    </tr>\n",
       "    <tr>\n",
       "      <th>...</th>\n",
       "      <td>...</td>\n",
       "      <td>...</td>\n",
       "    </tr>\n",
       "    <tr>\n",
       "      <th>19300</th>\n",
       "      <td>s3</td>\n",
       "      <td>b2</td>\n",
       "    </tr>\n",
       "    <tr>\n",
       "      <th>19303</th>\n",
       "      <td>s3</td>\n",
       "      <td>f3</td>\n",
       "    </tr>\n",
       "    <tr>\n",
       "      <th>19320</th>\n",
       "      <td>b3</td>\n",
       "      <td>b3</td>\n",
       "    </tr>\n",
       "    <tr>\n",
       "      <th>19322</th>\n",
       "      <td>b1</td>\n",
       "      <td>f2</td>\n",
       "    </tr>\n",
       "    <tr>\n",
       "      <th>19323</th>\n",
       "      <td>f1</td>\n",
       "      <td>f1</td>\n",
       "    </tr>\n",
       "  </tbody>\n",
       "</table>\n",
       "<p>1117 rows × 2 columns</p>\n",
       "</div>"
      ],
      "text/plain": [
       "        2     3\n",
       "0      f3  b3n@\n",
       "14     b3    f2\n",
       "15     f3    b3\n",
       "53     f1    f3\n",
       "66     f1  h3n#\n",
       "...    ..   ...\n",
       "19300  s3    b2\n",
       "19303  s3    f3\n",
       "19320  b3    b3\n",
       "19322  b1    f2\n",
       "19323  f1    f1\n",
       "\n",
       "[1117 rows x 2 columns]"
      ]
     },
     "execution_count": 376,
     "metadata": {},
     "output_type": "execute_result"
    }
   ],
   "source": [
    "df_addition1_2 = df_serving_2nd[[\"6\", \"7\"]]\n",
    "df_addition1_2 = df_addition1_2[df_addition1_2[\"6\"].notna()]\n",
    "df_addition1_2 = df_addition1_2[df_addition1_2[\"7\"].notna()]\n",
    "df_addition1_2.rename(columns={\"6\": \"2\", \"7\": \"3\"}, inplace = True)\n",
    "df_addition1_2"
   ]
  },
  {
   "cell_type": "code",
   "execution_count": 377,
   "metadata": {},
   "outputs": [
    {
     "data": {
      "text/html": [
       "<div>\n",
       "<style scoped>\n",
       "    .dataframe tbody tr th:only-of-type {\n",
       "        vertical-align: middle;\n",
       "    }\n",
       "\n",
       "    .dataframe tbody tr th {\n",
       "        vertical-align: top;\n",
       "    }\n",
       "\n",
       "    .dataframe thead th {\n",
       "        text-align: right;\n",
       "    }\n",
       "</style>\n",
       "<table border=\"1\" class=\"dataframe\">\n",
       "  <thead>\n",
       "    <tr style=\"text-align: right;\">\n",
       "      <th></th>\n",
       "      <th>2</th>\n",
       "      <th>3</th>\n",
       "    </tr>\n",
       "  </thead>\n",
       "  <tbody>\n",
       "    <tr>\n",
       "      <th>14</th>\n",
       "      <td>f2</td>\n",
       "      <td>f3</td>\n",
       "    </tr>\n",
       "    <tr>\n",
       "      <th>15</th>\n",
       "      <td>b3</td>\n",
       "      <td>b2</td>\n",
       "    </tr>\n",
       "    <tr>\n",
       "      <th>85</th>\n",
       "      <td>b2</td>\n",
       "      <td>f3</td>\n",
       "    </tr>\n",
       "    <tr>\n",
       "      <th>96</th>\n",
       "      <td>f1</td>\n",
       "      <td>f3w@</td>\n",
       "    </tr>\n",
       "    <tr>\n",
       "      <th>97</th>\n",
       "      <td>f3</td>\n",
       "      <td>b2</td>\n",
       "    </tr>\n",
       "    <tr>\n",
       "      <th>...</th>\n",
       "      <td>...</td>\n",
       "      <td>...</td>\n",
       "    </tr>\n",
       "    <tr>\n",
       "      <th>19300</th>\n",
       "      <td>b1</td>\n",
       "      <td>f2n@</td>\n",
       "    </tr>\n",
       "    <tr>\n",
       "      <th>19303</th>\n",
       "      <td>s3</td>\n",
       "      <td>f1</td>\n",
       "    </tr>\n",
       "    <tr>\n",
       "      <th>19320</th>\n",
       "      <td>s3</td>\n",
       "      <td>b3</td>\n",
       "    </tr>\n",
       "    <tr>\n",
       "      <th>19322</th>\n",
       "      <td>b3</td>\n",
       "      <td>s3</td>\n",
       "    </tr>\n",
       "    <tr>\n",
       "      <th>19323</th>\n",
       "      <td>f2</td>\n",
       "      <td>b3</td>\n",
       "    </tr>\n",
       "  </tbody>\n",
       "</table>\n",
       "<p>734 rows × 2 columns</p>\n",
       "</div>"
      ],
      "text/plain": [
       "        2     3\n",
       "14     f2    f3\n",
       "15     b3    b2\n",
       "85     b2    f3\n",
       "96     f1  f3w@\n",
       "97     f3    b2\n",
       "...    ..   ...\n",
       "19300  b1  f2n@\n",
       "19303  s3    f1\n",
       "19320  s3    b3\n",
       "19322  b3    s3\n",
       "19323  f2    b3\n",
       "\n",
       "[734 rows x 2 columns]"
      ]
     },
     "execution_count": 377,
     "metadata": {},
     "output_type": "execute_result"
    }
   ],
   "source": [
    "df_addition1_3 = df_serving_2nd[[\"8\", \"9\"]]\n",
    "df_addition1_3 = df_addition1_3[df_addition1_3[\"8\"].notna()]\n",
    "df_addition1_3 = df_addition1_3[df_addition1_3[\"9\"].notna()]\n",
    "df_addition1_3.rename(columns={\"8\": \"2\", \"9\": \"3\"}, inplace = True)\n",
    "df_addition1_3"
   ]
  },
  {
   "cell_type": "code",
   "execution_count": 378,
   "metadata": {},
   "outputs": [
    {
     "data": {
      "text/html": [
       "<div>\n",
       "<style scoped>\n",
       "    .dataframe tbody tr th:only-of-type {\n",
       "        vertical-align: middle;\n",
       "    }\n",
       "\n",
       "    .dataframe tbody tr th {\n",
       "        vertical-align: top;\n",
       "    }\n",
       "\n",
       "    .dataframe thead th {\n",
       "        text-align: right;\n",
       "    }\n",
       "</style>\n",
       "<table border=\"1\" class=\"dataframe\">\n",
       "  <thead>\n",
       "    <tr style=\"text-align: right;\">\n",
       "      <th></th>\n",
       "      <th>2</th>\n",
       "      <th>3</th>\n",
       "    </tr>\n",
       "  </thead>\n",
       "  <tbody>\n",
       "    <tr>\n",
       "      <th>14</th>\n",
       "      <td>s1</td>\n",
       "      <td>f1</td>\n",
       "    </tr>\n",
       "    <tr>\n",
       "      <th>85</th>\n",
       "      <td>b3</td>\n",
       "      <td>b3</td>\n",
       "    </tr>\n",
       "    <tr>\n",
       "      <th>97</th>\n",
       "      <td>f3</td>\n",
       "      <td>b3</td>\n",
       "    </tr>\n",
       "    <tr>\n",
       "      <th>110</th>\n",
       "      <td>b3</td>\n",
       "      <td>b3</td>\n",
       "    </tr>\n",
       "    <tr>\n",
       "      <th>134</th>\n",
       "      <td>f1</td>\n",
       "      <td>f2</td>\n",
       "    </tr>\n",
       "    <tr>\n",
       "      <th>...</th>\n",
       "      <td>...</td>\n",
       "      <td>...</td>\n",
       "    </tr>\n",
       "    <tr>\n",
       "      <th>19277</th>\n",
       "      <td>f1</td>\n",
       "      <td>f3</td>\n",
       "    </tr>\n",
       "    <tr>\n",
       "      <th>19287</th>\n",
       "      <td>s2</td>\n",
       "      <td>f3</td>\n",
       "    </tr>\n",
       "    <tr>\n",
       "      <th>19320</th>\n",
       "      <td>b3</td>\n",
       "      <td>b3</td>\n",
       "    </tr>\n",
       "    <tr>\n",
       "      <th>19322</th>\n",
       "      <td>f3</td>\n",
       "      <td>b3</td>\n",
       "    </tr>\n",
       "    <tr>\n",
       "      <th>19323</th>\n",
       "      <td>b2</td>\n",
       "      <td>b1</td>\n",
       "    </tr>\n",
       "  </tbody>\n",
       "</table>\n",
       "<p>514 rows × 2 columns</p>\n",
       "</div>"
      ],
      "text/plain": [
       "        2   3\n",
       "14     s1  f1\n",
       "85     b3  b3\n",
       "97     f3  b3\n",
       "110    b3  b3\n",
       "134    f1  f2\n",
       "...    ..  ..\n",
       "19277  f1  f3\n",
       "19287  s2  f3\n",
       "19320  b3  b3\n",
       "19322  f3  b3\n",
       "19323  b2  b1\n",
       "\n",
       "[514 rows x 2 columns]"
      ]
     },
     "execution_count": 378,
     "metadata": {},
     "output_type": "execute_result"
    }
   ],
   "source": [
    "df_addition1_4 = df_serving_2nd[[\"10\", \"11\"]]\n",
    "df_addition1_4 = df_addition1_4[df_addition1_4[\"10\"].notna()]\n",
    "df_addition1_4 = df_addition1_4[df_addition1_4[\"11\"].notna()]\n",
    "df_addition1_4.rename(columns={\"10\": \"2\", \"11\": \"3\"}, inplace = True)\n",
    "df_addition1_4"
   ]
  },
  {
   "cell_type": "code",
   "execution_count": 379,
   "metadata": {},
   "outputs": [
    {
     "data": {
      "text/html": [
       "<div>\n",
       "<style scoped>\n",
       "    .dataframe tbody tr th:only-of-type {\n",
       "        vertical-align: middle;\n",
       "    }\n",
       "\n",
       "    .dataframe tbody tr th {\n",
       "        vertical-align: top;\n",
       "    }\n",
       "\n",
       "    .dataframe thead th {\n",
       "        text-align: right;\n",
       "    }\n",
       "</style>\n",
       "<table border=\"1\" class=\"dataframe\">\n",
       "  <thead>\n",
       "    <tr style=\"text-align: right;\">\n",
       "      <th></th>\n",
       "      <th>2</th>\n",
       "      <th>3</th>\n",
       "    </tr>\n",
       "  </thead>\n",
       "  <tbody>\n",
       "    <tr>\n",
       "      <th>14</th>\n",
       "      <td>f1</td>\n",
       "      <td>f3</td>\n",
       "    </tr>\n",
       "    <tr>\n",
       "      <th>85</th>\n",
       "      <td>f2</td>\n",
       "      <td>b3</td>\n",
       "    </tr>\n",
       "    <tr>\n",
       "      <th>97</th>\n",
       "      <td>b3</td>\n",
       "      <td>b3</td>\n",
       "    </tr>\n",
       "    <tr>\n",
       "      <th>110</th>\n",
       "      <td>b3</td>\n",
       "      <td>b3</td>\n",
       "    </tr>\n",
       "    <tr>\n",
       "      <th>175</th>\n",
       "      <td>f1</td>\n",
       "      <td>f2</td>\n",
       "    </tr>\n",
       "    <tr>\n",
       "      <th>...</th>\n",
       "      <td>...</td>\n",
       "      <td>...</td>\n",
       "    </tr>\n",
       "    <tr>\n",
       "      <th>19277</th>\n",
       "      <td>s2</td>\n",
       "      <td>f1</td>\n",
       "    </tr>\n",
       "    <tr>\n",
       "      <th>19287</th>\n",
       "      <td>b3</td>\n",
       "      <td>b2</td>\n",
       "    </tr>\n",
       "    <tr>\n",
       "      <th>19320</th>\n",
       "      <td>b3</td>\n",
       "      <td>s3</td>\n",
       "    </tr>\n",
       "    <tr>\n",
       "      <th>19322</th>\n",
       "      <td>b3</td>\n",
       "      <td>b2</td>\n",
       "    </tr>\n",
       "    <tr>\n",
       "      <th>19323</th>\n",
       "      <td>f1</td>\n",
       "      <td>f1</td>\n",
       "    </tr>\n",
       "  </tbody>\n",
       "</table>\n",
       "<p>358 rows × 2 columns</p>\n",
       "</div>"
      ],
      "text/plain": [
       "        2   3\n",
       "14     f1  f3\n",
       "85     f2  b3\n",
       "97     b3  b3\n",
       "110    b3  b3\n",
       "175    f1  f2\n",
       "...    ..  ..\n",
       "19277  s2  f1\n",
       "19287  b3  b2\n",
       "19320  b3  s3\n",
       "19322  b3  b2\n",
       "19323  f1  f1\n",
       "\n",
       "[358 rows x 2 columns]"
      ]
     },
     "execution_count": 379,
     "metadata": {},
     "output_type": "execute_result"
    }
   ],
   "source": [
    "df_addition1_5 = df_serving_2nd[[\"12\", \"13\"]]\n",
    "df_addition1_5 = df_addition1_5[df_addition1_5[\"12\"].notna()]\n",
    "df_addition1_5 = df_addition1_5[df_addition1_5[\"13\"].notna()]\n",
    "df_addition1_5.rename(columns={\"12\": \"2\", \"13\": \"3\"}, inplace = True)\n",
    "df_addition1_5"
   ]
  },
  {
   "cell_type": "code",
   "execution_count": 380,
   "metadata": {},
   "outputs": [
    {
     "data": {
      "text/html": [
       "<div>\n",
       "<style scoped>\n",
       "    .dataframe tbody tr th:only-of-type {\n",
       "        vertical-align: middle;\n",
       "    }\n",
       "\n",
       "    .dataframe tbody tr th {\n",
       "        vertical-align: top;\n",
       "    }\n",
       "\n",
       "    .dataframe thead th {\n",
       "        text-align: right;\n",
       "    }\n",
       "</style>\n",
       "<table border=\"1\" class=\"dataframe\">\n",
       "  <thead>\n",
       "    <tr style=\"text-align: right;\">\n",
       "      <th></th>\n",
       "      <th>2</th>\n",
       "      <th>3</th>\n",
       "    </tr>\n",
       "  </thead>\n",
       "  <tbody>\n",
       "    <tr>\n",
       "      <th>0</th>\n",
       "      <td>f18</td>\n",
       "      <td>f3</td>\n",
       "    </tr>\n",
       "    <tr>\n",
       "      <th>1</th>\n",
       "      <td>f2n#</td>\n",
       "      <td>NaN</td>\n",
       "    </tr>\n",
       "    <tr>\n",
       "      <th>2</th>\n",
       "      <td>b3n@</td>\n",
       "      <td>NaN</td>\n",
       "    </tr>\n",
       "    <tr>\n",
       "      <th>3</th>\n",
       "      <td>b28</td>\n",
       "      <td>f3</td>\n",
       "    </tr>\n",
       "    <tr>\n",
       "      <th>4</th>\n",
       "      <td>b28</td>\n",
       "      <td>f2</td>\n",
       "    </tr>\n",
       "    <tr>\n",
       "      <th>...</th>\n",
       "      <td>...</td>\n",
       "      <td>...</td>\n",
       "    </tr>\n",
       "    <tr>\n",
       "      <th>7237</th>\n",
       "      <td>s2</td>\n",
       "      <td>f1</td>\n",
       "    </tr>\n",
       "    <tr>\n",
       "      <th>7238</th>\n",
       "      <td>b3</td>\n",
       "      <td>b2</td>\n",
       "    </tr>\n",
       "    <tr>\n",
       "      <th>7239</th>\n",
       "      <td>b3</td>\n",
       "      <td>s3</td>\n",
       "    </tr>\n",
       "    <tr>\n",
       "      <th>7240</th>\n",
       "      <td>b3</td>\n",
       "      <td>b2</td>\n",
       "    </tr>\n",
       "    <tr>\n",
       "      <th>7241</th>\n",
       "      <td>f1</td>\n",
       "      <td>f1</td>\n",
       "    </tr>\n",
       "  </tbody>\n",
       "</table>\n",
       "<p>7242 rows × 2 columns</p>\n",
       "</div>"
      ],
      "text/plain": [
       "         2    3\n",
       "0      f18   f3\n",
       "1     f2n#  NaN\n",
       "2     b3n@  NaN\n",
       "3      b28   f3\n",
       "4      b28   f2\n",
       "...    ...  ...\n",
       "7237    s2   f1\n",
       "7238    b3   b2\n",
       "7239    b3   s3\n",
       "7240    b3   b2\n",
       "7241    f1   f1\n",
       "\n",
       "[7242 rows x 2 columns]"
      ]
     },
     "execution_count": 380,
     "metadata": {},
     "output_type": "execute_result"
    }
   ],
   "source": [
    "df_serving_2nd_all_shot_pairs = pd.concat([df_serving_2nd_all_shot_pairs, df_addition1_1, df_addition1_2, df_addition1_3, df_addition1_4, df_addition1_5], ignore_index = True)\n",
    "df_serving_2nd_all_shot_pairs"
   ]
  },
  {
   "cell_type": "code",
   "execution_count": 381,
   "metadata": {},
   "outputs": [
    {
     "data": {
      "text/plain": [
       "1538"
      ]
     },
     "execution_count": 381,
     "metadata": {},
     "output_type": "execute_result"
    }
   ],
   "source": [
    "# When the opponent played in dir 1:\n",
    "df_serving_2nd_oppo_dir1 = df_serving_2nd_all_shot_pairs.loc[df_serving_2nd_all_shot_pairs[\"2\"].str.contains(\"1\", case = True)]\n",
    "len(df_serving_2nd_oppo_dir1)"
   ]
  },
  {
   "cell_type": "code",
   "execution_count": 382,
   "metadata": {},
   "outputs": [
    {
     "data": {
      "text/plain": [
       "2741"
      ]
     },
     "execution_count": 382,
     "metadata": {},
     "output_type": "execute_result"
    }
   ],
   "source": [
    "df_serving_2nd_oppo_dir2 = df_serving_2nd_all_shot_pairs.loc[df_serving_2nd_all_shot_pairs[\"2\"].str.contains(\"2\", case = True)]\n",
    "len(df_serving_2nd_oppo_dir2)"
   ]
  },
  {
   "cell_type": "code",
   "execution_count": 383,
   "metadata": {},
   "outputs": [
    {
     "data": {
      "text/plain": [
       "2871"
      ]
     },
     "execution_count": 383,
     "metadata": {},
     "output_type": "execute_result"
    }
   ],
   "source": [
    "df_serving_2nd_oppo_dir3 = df_serving_2nd_all_shot_pairs.loc[df_serving_2nd_all_shot_pairs[\"2\"].str.contains(\"3\", case = True)]\n",
    "len(df_serving_2nd_oppo_dir3)"
   ]
  },
  {
   "cell_type": "code",
   "execution_count": 392,
   "metadata": {},
   "outputs": [],
   "source": [
    "df_serving_2nd_oppo_dir1 = df_serving_2nd_oppo_dir1[df_serving_2nd_oppo_dir1[\"3\"].notna()]\n",
    "df_serving_2nd_oppo_dir2 = df_serving_2nd_oppo_dir2[df_serving_2nd_oppo_dir2[\"3\"].notna()]\n",
    "df_serving_2nd_oppo_dir3 = df_serving_2nd_oppo_dir3[df_serving_2nd_oppo_dir3[\"3\"].notna()]"
   ]
  },
  {
   "cell_type": "code",
   "execution_count": 397,
   "metadata": {},
   "outputs": [
    {
     "data": {
      "text/plain": [
       "(1414, 2591, 2710)"
      ]
     },
     "execution_count": 397,
     "metadata": {},
     "output_type": "execute_result"
    }
   ],
   "source": [
    "len(df_serving_2nd_oppo_dir1), len(df_serving_2nd_oppo_dir2), len(df_serving_2nd_oppo_dir3)"
   ]
  },
  {
   "cell_type": "code",
   "execution_count": 401,
   "metadata": {},
   "outputs": [
    {
     "data": {
      "text/plain": [
       "587"
      ]
     },
     "execution_count": 401,
     "metadata": {},
     "output_type": "execute_result"
    }
   ],
   "source": [
    "df_serving_2nd_oppo_dir1_djoko_dir1 = df_serving_2nd_oppo_dir1.loc[df_serving_2nd_oppo_dir1[\"3\"].str.contains(\"1\", case = True)]\n",
    "len(df_serving_2nd_oppo_dir1_djoko_dir1)"
   ]
  },
  {
   "cell_type": "code",
   "execution_count": 402,
   "metadata": {},
   "outputs": [
    {
     "data": {
      "text/plain": [
       "383"
      ]
     },
     "execution_count": 402,
     "metadata": {},
     "output_type": "execute_result"
    }
   ],
   "source": [
    "df_serving_2nd_oppo_dir1_djoko_dir2 = df_serving_2nd_oppo_dir1.loc[df_serving_2nd_oppo_dir1[\"3\"].str.contains(\"2\", case = True)]\n",
    "len(df_serving_2nd_oppo_dir1_djoko_dir2)"
   ]
  },
  {
   "cell_type": "code",
   "execution_count": 403,
   "metadata": {},
   "outputs": [
    {
     "data": {
      "text/plain": [
       "433"
      ]
     },
     "execution_count": 403,
     "metadata": {},
     "output_type": "execute_result"
    }
   ],
   "source": [
    "df_serving_2nd_oppo_dir1_djoko_dir3 = df_serving_2nd_oppo_dir1.loc[df_serving_2nd_oppo_dir1[\"3\"].str.contains(\"3\", case = True)]\n",
    "len(df_serving_2nd_oppo_dir1_djoko_dir3)"
   ]
  },
  {
   "cell_type": "code",
   "execution_count": 479,
   "metadata": {},
   "outputs": [
    {
     "data": {
      "text/plain": [
       "0"
      ]
     },
     "execution_count": 479,
     "metadata": {},
     "output_type": "execute_result"
    }
   ],
   "source": [
    "len(df_serving_2nd_oppo_dir1_djoko_dir1.loc[df_serving_2nd_oppo_dir1_djoko_dir1[\"3\"].str.contains(\"q\", case = True)])"
   ]
  },
  {
   "cell_type": "code",
   "execution_count": 480,
   "metadata": {},
   "outputs": [
    {
     "data": {
      "text/plain": [
       "0"
      ]
     },
     "execution_count": 480,
     "metadata": {},
     "output_type": "execute_result"
    }
   ],
   "source": [
    "len(df_serving_2nd_oppo_dir1_djoko_dir2.loc[df_serving_2nd_oppo_dir1_djoko_dir2[\"3\"].str.contains(\"q\", case = True)])"
   ]
  },
  {
   "cell_type": "code",
   "execution_count": 481,
   "metadata": {},
   "outputs": [
    {
     "data": {
      "text/plain": [
       "0"
      ]
     },
     "execution_count": 481,
     "metadata": {},
     "output_type": "execute_result"
    }
   ],
   "source": [
    "len(df_serving_2nd_oppo_dir1_djoko_dir3.loc[df_serving_2nd_oppo_dir1_djoko_dir3[\"3\"].str.contains(\"q\", case = True)])"
   ]
  },
  {
   "cell_type": "code",
   "execution_count": 485,
   "metadata": {},
   "outputs": [
    {
     "name": "stderr",
     "output_type": "stream",
     "text": [
      "C:\\Users\\carlo\\AppData\\Local\\Temp\\ipykernel_13516\\783007518.py:1: SettingWithCopyWarning: \n",
      "A value is trying to be set on a copy of a slice from a DataFrame.\n",
      "Try using .loc[row_indexer,col_indexer] = value instead\n",
      "\n",
      "See the caveats in the documentation: https://pandas.pydata.org/pandas-docs/stable/user_guide/indexing.html#returning-a-view-versus-a-copy\n",
      "  df_serving_2nd_oppo_dir1_djoko_dir1[\"3\"] = df_serving_2nd_oppo_dir1_djoko_dir1[\"3\"].str.replace('*', 'a')\n"
     ]
    },
    {
     "data": {
      "text/plain": [
       "36"
      ]
     },
     "execution_count": 485,
     "metadata": {},
     "output_type": "execute_result"
    }
   ],
   "source": [
    "df_serving_2nd_oppo_dir1_djoko_dir1[\"3\"] = df_serving_2nd_oppo_dir1_djoko_dir1[\"3\"].str.replace('*', 'a')\n",
    "len(df_serving_2nd_oppo_dir1_djoko_dir1.loc[df_serving_2nd_oppo_dir1_djoko_dir1[\"3\"].str.contains(\"a\", case = True)])"
   ]
  },
  {
   "cell_type": "code",
   "execution_count": 486,
   "metadata": {},
   "outputs": [
    {
     "name": "stderr",
     "output_type": "stream",
     "text": [
      "C:\\Users\\carlo\\AppData\\Local\\Temp\\ipykernel_13516\\34451558.py:1: SettingWithCopyWarning: \n",
      "A value is trying to be set on a copy of a slice from a DataFrame.\n",
      "Try using .loc[row_indexer,col_indexer] = value instead\n",
      "\n",
      "See the caveats in the documentation: https://pandas.pydata.org/pandas-docs/stable/user_guide/indexing.html#returning-a-view-versus-a-copy\n",
      "  df_serving_2nd_oppo_dir1_djoko_dir2[\"3\"] = df_serving_2nd_oppo_dir1_djoko_dir2[\"3\"].str.replace('*', 'a')\n"
     ]
    },
    {
     "data": {
      "text/plain": [
       "9"
      ]
     },
     "execution_count": 486,
     "metadata": {},
     "output_type": "execute_result"
    }
   ],
   "source": [
    "df_serving_2nd_oppo_dir1_djoko_dir2[\"3\"] = df_serving_2nd_oppo_dir1_djoko_dir2[\"3\"].str.replace('*', 'a')\n",
    "len(df_serving_2nd_oppo_dir1_djoko_dir2.loc[df_serving_2nd_oppo_dir1_djoko_dir2[\"3\"].str.contains(\"a\", case = True)])"
   ]
  },
  {
   "cell_type": "code",
   "execution_count": 487,
   "metadata": {},
   "outputs": [
    {
     "name": "stderr",
     "output_type": "stream",
     "text": [
      "C:\\Users\\carlo\\AppData\\Local\\Temp\\ipykernel_13516\\2792775502.py:1: SettingWithCopyWarning: \n",
      "A value is trying to be set on a copy of a slice from a DataFrame.\n",
      "Try using .loc[row_indexer,col_indexer] = value instead\n",
      "\n",
      "See the caveats in the documentation: https://pandas.pydata.org/pandas-docs/stable/user_guide/indexing.html#returning-a-view-versus-a-copy\n",
      "  df_serving_2nd_oppo_dir1_djoko_dir3[\"3\"] = df_serving_2nd_oppo_dir1_djoko_dir3[\"3\"].str.replace('*', 'a')\n"
     ]
    },
    {
     "data": {
      "text/plain": [
       "32"
      ]
     },
     "execution_count": 487,
     "metadata": {},
     "output_type": "execute_result"
    }
   ],
   "source": [
    "df_serving_2nd_oppo_dir1_djoko_dir3[\"3\"] = df_serving_2nd_oppo_dir1_djoko_dir3[\"3\"].str.replace('*', 'a')\n",
    "len(df_serving_2nd_oppo_dir1_djoko_dir3.loc[df_serving_2nd_oppo_dir1_djoko_dir3[\"3\"].str.contains(\"a\", case = True)])"
   ]
  },
  {
   "cell_type": "code",
   "execution_count": 490,
   "metadata": {},
   "outputs": [
    {
     "data": {
      "text/html": [
       "<div>\n",
       "<style scoped>\n",
       "    .dataframe tbody tr th:only-of-type {\n",
       "        vertical-align: middle;\n",
       "    }\n",
       "\n",
       "    .dataframe tbody tr th {\n",
       "        vertical-align: top;\n",
       "    }\n",
       "\n",
       "    .dataframe thead th {\n",
       "        text-align: right;\n",
       "    }\n",
       "</style>\n",
       "<table border=\"1\" class=\"dataframe\">\n",
       "  <thead>\n",
       "    <tr style=\"text-align: right;\">\n",
       "      <th></th>\n",
       "      <th>2</th>\n",
       "      <th>3</th>\n",
       "    </tr>\n",
       "  </thead>\n",
       "  <tbody>\n",
       "    <tr>\n",
       "      <th>3</th>\n",
       "      <td>b28</td>\n",
       "      <td>f3</td>\n",
       "    </tr>\n",
       "    <tr>\n",
       "      <th>4</th>\n",
       "      <td>b28</td>\n",
       "      <td>f2</td>\n",
       "    </tr>\n",
       "    <tr>\n",
       "      <th>5</th>\n",
       "      <td>f28</td>\n",
       "      <td>f2</td>\n",
       "    </tr>\n",
       "    <tr>\n",
       "      <th>7</th>\n",
       "      <td>b27</td>\n",
       "      <td>f3</td>\n",
       "    </tr>\n",
       "    <tr>\n",
       "      <th>8</th>\n",
       "      <td>f28</td>\n",
       "      <td>f3</td>\n",
       "    </tr>\n",
       "    <tr>\n",
       "      <th>...</th>\n",
       "      <td>...</td>\n",
       "      <td>...</td>\n",
       "    </tr>\n",
       "    <tr>\n",
       "      <th>7207</th>\n",
       "      <td>b2</td>\n",
       "      <td>f1</td>\n",
       "    </tr>\n",
       "    <tr>\n",
       "      <th>7209</th>\n",
       "      <td>r2</td>\n",
       "      <td>b3</td>\n",
       "    </tr>\n",
       "    <tr>\n",
       "      <th>7226</th>\n",
       "      <td>f2</td>\n",
       "      <td>f3</td>\n",
       "    </tr>\n",
       "    <tr>\n",
       "      <th>7228</th>\n",
       "      <td>r2</td>\n",
       "      <td>f+3</td>\n",
       "    </tr>\n",
       "    <tr>\n",
       "      <th>7237</th>\n",
       "      <td>s2</td>\n",
       "      <td>f1</td>\n",
       "    </tr>\n",
       "  </tbody>\n",
       "</table>\n",
       "<p>2591 rows × 2 columns</p>\n",
       "</div>"
      ],
      "text/plain": [
       "        2    3\n",
       "3     b28   f3\n",
       "4     b28   f2\n",
       "5     f28   f2\n",
       "7     b27   f3\n",
       "8     f28   f3\n",
       "...   ...  ...\n",
       "7207   b2   f1\n",
       "7209   r2   b3\n",
       "7226   f2   f3\n",
       "7228   r2  f+3\n",
       "7237   s2   f1\n",
       "\n",
       "[2591 rows x 2 columns]"
      ]
     },
     "execution_count": 490,
     "metadata": {},
     "output_type": "execute_result"
    }
   ],
   "source": [
    "df_serving_2nd_oppo_dir2"
   ]
  },
  {
   "cell_type": "code",
   "execution_count": 496,
   "metadata": {},
   "outputs": [
    {
     "data": {
      "text/plain": [
       "758"
      ]
     },
     "execution_count": 496,
     "metadata": {},
     "output_type": "execute_result"
    }
   ],
   "source": [
    "df_serving_2nd_oppo_dir2_djoko_dir1 = df_serving_2nd_oppo_dir2.loc[df_serving_2nd_oppo_dir2[\"3\"].str.contains(\"1\", case = True)]\n",
    "len(df_serving_2nd_oppo_dir2_djoko_dir1)"
   ]
  },
  {
   "cell_type": "code",
   "execution_count": 497,
   "metadata": {},
   "outputs": [
    {
     "data": {
      "text/plain": [
       "734"
      ]
     },
     "execution_count": 497,
     "metadata": {},
     "output_type": "execute_result"
    }
   ],
   "source": [
    "df_serving_2nd_oppo_dir2_djoko_dir2 = df_serving_2nd_oppo_dir2.loc[df_serving_2nd_oppo_dir2[\"3\"].str.contains(\"2\", case = True)]\n",
    "len(df_serving_2nd_oppo_dir2_djoko_dir2)"
   ]
  },
  {
   "cell_type": "code",
   "execution_count": 498,
   "metadata": {},
   "outputs": [
    {
     "data": {
      "text/plain": [
       "1094"
      ]
     },
     "execution_count": 498,
     "metadata": {},
     "output_type": "execute_result"
    }
   ],
   "source": [
    "df_serving_2nd_oppo_dir2_djoko_dir3 = df_serving_2nd_oppo_dir2.loc[df_serving_2nd_oppo_dir2[\"3\"].str.contains(\"3\", case = True)]\n",
    "len(df_serving_2nd_oppo_dir2_djoko_dir3)"
   ]
  },
  {
   "cell_type": "code",
   "execution_count": 571,
   "metadata": {},
   "outputs": [
    {
     "data": {
      "text/plain": [
       "0"
      ]
     },
     "execution_count": 571,
     "metadata": {},
     "output_type": "execute_result"
    }
   ],
   "source": [
    "len(df_serving_2nd_oppo_dir2_djoko_dir1.loc[df_serving_2nd_oppo_dir2_djoko_dir1[\"3\"].str.contains(\"q\", case = True)])"
   ]
  },
  {
   "cell_type": "code",
   "execution_count": 572,
   "metadata": {},
   "outputs": [
    {
     "data": {
      "text/plain": [
       "0"
      ]
     },
     "execution_count": 572,
     "metadata": {},
     "output_type": "execute_result"
    }
   ],
   "source": [
    "len(df_serving_2nd_oppo_dir2_djoko_dir2.loc[df_serving_2nd_oppo_dir2_djoko_dir2[\"3\"].str.contains(\"q\", case = True)])"
   ]
  },
  {
   "cell_type": "code",
   "execution_count": 573,
   "metadata": {},
   "outputs": [
    {
     "data": {
      "text/plain": [
       "0"
      ]
     },
     "execution_count": 573,
     "metadata": {},
     "output_type": "execute_result"
    }
   ],
   "source": [
    "len(df_serving_2nd_oppo_dir2_djoko_dir3.loc[df_serving_2nd_oppo_dir2_djoko_dir3[\"3\"].str.contains(\"q\", case = True)])"
   ]
  },
  {
   "cell_type": "code",
   "execution_count": 574,
   "metadata": {},
   "outputs": [
    {
     "name": "stderr",
     "output_type": "stream",
     "text": [
      "C:\\Users\\carlo\\AppData\\Local\\Temp\\ipykernel_13516\\492761547.py:1: SettingWithCopyWarning: \n",
      "A value is trying to be set on a copy of a slice from a DataFrame.\n",
      "Try using .loc[row_indexer,col_indexer] = value instead\n",
      "\n",
      "See the caveats in the documentation: https://pandas.pydata.org/pandas-docs/stable/user_guide/indexing.html#returning-a-view-versus-a-copy\n",
      "  df_serving_2nd_oppo_dir2_djoko_dir1[\"3\"] = df_serving_2nd_oppo_dir2_djoko_dir1[\"3\"].str.replace('*', 'a')\n"
     ]
    },
    {
     "data": {
      "text/plain": [
       "68"
      ]
     },
     "execution_count": 574,
     "metadata": {},
     "output_type": "execute_result"
    }
   ],
   "source": [
    "df_serving_2nd_oppo_dir2_djoko_dir1[\"3\"] = df_serving_2nd_oppo_dir2_djoko_dir1[\"3\"].str.replace('*', 'a')\n",
    "len(df_serving_2nd_oppo_dir2_djoko_dir1.loc[df_serving_2nd_oppo_dir2_djoko_dir1[\"3\"].str.contains(\"a\", case = True)])"
   ]
  },
  {
   "cell_type": "code",
   "execution_count": 575,
   "metadata": {},
   "outputs": [
    {
     "name": "stderr",
     "output_type": "stream",
     "text": [
      "C:\\Users\\carlo\\AppData\\Local\\Temp\\ipykernel_13516\\558656244.py:1: SettingWithCopyWarning: \n",
      "A value is trying to be set on a copy of a slice from a DataFrame.\n",
      "Try using .loc[row_indexer,col_indexer] = value instead\n",
      "\n",
      "See the caveats in the documentation: https://pandas.pydata.org/pandas-docs/stable/user_guide/indexing.html#returning-a-view-versus-a-copy\n",
      "  df_serving_2nd_oppo_dir2_djoko_dir2[\"3\"] = df_serving_2nd_oppo_dir2_djoko_dir2[\"3\"].str.replace('*', 'a')\n"
     ]
    },
    {
     "data": {
      "text/plain": [
       "2"
      ]
     },
     "execution_count": 575,
     "metadata": {},
     "output_type": "execute_result"
    }
   ],
   "source": [
    "df_serving_2nd_oppo_dir2_djoko_dir2[\"3\"] = df_serving_2nd_oppo_dir2_djoko_dir2[\"3\"].str.replace('*', 'a')\n",
    "len(df_serving_2nd_oppo_dir2_djoko_dir2.loc[df_serving_2nd_oppo_dir2_djoko_dir2[\"3\"].str.contains(\"a\", case = True)])"
   ]
  },
  {
   "cell_type": "code",
   "execution_count": 576,
   "metadata": {},
   "outputs": [
    {
     "name": "stderr",
     "output_type": "stream",
     "text": [
      "C:\\Users\\carlo\\AppData\\Local\\Temp\\ipykernel_13516\\1590072969.py:1: SettingWithCopyWarning: \n",
      "A value is trying to be set on a copy of a slice from a DataFrame.\n",
      "Try using .loc[row_indexer,col_indexer] = value instead\n",
      "\n",
      "See the caveats in the documentation: https://pandas.pydata.org/pandas-docs/stable/user_guide/indexing.html#returning-a-view-versus-a-copy\n",
      "  df_serving_2nd_oppo_dir2_djoko_dir3[\"3\"] = df_serving_2nd_oppo_dir2_djoko_dir3[\"3\"].str.replace('*', 'a')\n"
     ]
    },
    {
     "data": {
      "text/plain": [
       "67"
      ]
     },
     "execution_count": 576,
     "metadata": {},
     "output_type": "execute_result"
    }
   ],
   "source": [
    "df_serving_2nd_oppo_dir2_djoko_dir3[\"3\"] = df_serving_2nd_oppo_dir2_djoko_dir3[\"3\"].str.replace('*', 'a')\n",
    "len(df_serving_2nd_oppo_dir2_djoko_dir3.loc[df_serving_2nd_oppo_dir2_djoko_dir3[\"3\"].str.contains(\"a\", case = True)])"
   ]
  },
  {
   "cell_type": "code",
   "execution_count": 577,
   "metadata": {},
   "outputs": [
    {
     "data": {
      "text/html": [
       "<div>\n",
       "<style scoped>\n",
       "    .dataframe tbody tr th:only-of-type {\n",
       "        vertical-align: middle;\n",
       "    }\n",
       "\n",
       "    .dataframe tbody tr th {\n",
       "        vertical-align: top;\n",
       "    }\n",
       "\n",
       "    .dataframe thead th {\n",
       "        text-align: right;\n",
       "    }\n",
       "</style>\n",
       "<table border=\"1\" class=\"dataframe\">\n",
       "  <thead>\n",
       "    <tr style=\"text-align: right;\">\n",
       "      <th></th>\n",
       "      <th>2</th>\n",
       "      <th>3</th>\n",
       "    </tr>\n",
       "  </thead>\n",
       "  <tbody>\n",
       "    <tr>\n",
       "      <th>10</th>\n",
       "      <td>f38</td>\n",
       "      <td>b3</td>\n",
       "    </tr>\n",
       "    <tr>\n",
       "      <th>17</th>\n",
       "      <td>b38</td>\n",
       "      <td>b2</td>\n",
       "    </tr>\n",
       "    <tr>\n",
       "      <th>24</th>\n",
       "      <td>f38</td>\n",
       "      <td>b1</td>\n",
       "    </tr>\n",
       "    <tr>\n",
       "      <th>25</th>\n",
       "      <td>b38</td>\n",
       "      <td>b3</td>\n",
       "    </tr>\n",
       "    <tr>\n",
       "      <th>52</th>\n",
       "      <td>b38</td>\n",
       "      <td>b+1</td>\n",
       "    </tr>\n",
       "    <tr>\n",
       "      <th>...</th>\n",
       "      <td>...</td>\n",
       "      <td>...</td>\n",
       "    </tr>\n",
       "    <tr>\n",
       "      <th>7235</th>\n",
       "      <td>f3</td>\n",
       "      <td>b3</td>\n",
       "    </tr>\n",
       "    <tr>\n",
       "      <th>7236</th>\n",
       "      <td>o-3</td>\n",
       "      <td>b3n#</td>\n",
       "    </tr>\n",
       "    <tr>\n",
       "      <th>7238</th>\n",
       "      <td>b3</td>\n",
       "      <td>b2</td>\n",
       "    </tr>\n",
       "    <tr>\n",
       "      <th>7239</th>\n",
       "      <td>b3</td>\n",
       "      <td>s3</td>\n",
       "    </tr>\n",
       "    <tr>\n",
       "      <th>7240</th>\n",
       "      <td>b3</td>\n",
       "      <td>b2</td>\n",
       "    </tr>\n",
       "  </tbody>\n",
       "</table>\n",
       "<p>2710 rows × 2 columns</p>\n",
       "</div>"
      ],
      "text/plain": [
       "        2     3\n",
       "10    f38    b3\n",
       "17    b38    b2\n",
       "24    f38    b1\n",
       "25    b38    b3\n",
       "52    b38   b+1\n",
       "...   ...   ...\n",
       "7235   f3    b3\n",
       "7236  o-3  b3n#\n",
       "7238   b3    b2\n",
       "7239   b3    s3\n",
       "7240   b3    b2\n",
       "\n",
       "[2710 rows x 2 columns]"
      ]
     },
     "execution_count": 577,
     "metadata": {},
     "output_type": "execute_result"
    }
   ],
   "source": [
    "df_serving_2nd_oppo_dir3\n"
   ]
  },
  {
   "cell_type": "code",
   "execution_count": null,
   "metadata": {},
   "outputs": [],
   "source": [
    "df_serving_2nd_oppo_dir3_djoko_dir1 = df_serving_2nd_oppo_dir3.loc[df_serving_2nd_oppo_dir3[\"3\"].str.contains(\"1\", case = True)]\n",
    "len(df_serving_2nd_oppo_dir3_djoko_dir1)"
   ]
  },
  {
   "cell_type": "code",
   "execution_count": null,
   "metadata": {},
   "outputs": [],
   "source": [
    "df_serving_2nd_oppo_dir3_djoko_dir2 = df_serving_2nd_oppo_dir3.loc[df_serving_2nd_oppo_dir3[\"3\"].str.contains(\"2\", case = True)]\n",
    "len(df_serving_2nd_oppo_dir3_djoko_dir2)"
   ]
  },
  {
   "cell_type": "code",
   "execution_count": null,
   "metadata": {},
   "outputs": [],
   "source": [
    "df_serving_2nd_oppo_dir3_djoko_dir3 = df_serving_2nd_oppo_dir3.loc[df_serving_2nd_oppo_dir3[\"3\"].str.contains(\"3\", case = True)]\n",
    "len(df_serving_2nd_oppo_dir3_djoko_dir3)"
   ]
  }
 ],
 "metadata": {
  "kernelspec": {
   "display_name": "Python 3",
   "language": "python",
   "name": "python3"
  },
  "language_info": {
   "codemirror_mode": {
    "name": "ipython",
    "version": 3
   },
   "file_extension": ".py",
   "mimetype": "text/x-python",
   "name": "python",
   "nbconvert_exporter": "python",
   "pygments_lexer": "ipython3",
   "version": "3.11.3"
  }
 },
 "nbformat": 4,
 "nbformat_minor": 2
}
