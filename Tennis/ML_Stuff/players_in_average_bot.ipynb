{
 "cells": [
  {
   "cell_type": "code",
   "execution_count": 2,
   "metadata": {},
   "outputs": [],
   "source": [
    "import pandas as pd"
   ]
  },
  {
   "cell_type": "code",
   "execution_count": 3,
   "metadata": {},
   "outputs": [
    {
     "data": {
      "text/plain": [
       "295353"
      ]
     },
     "execution_count": 3,
     "metadata": {},
     "output_type": "execute_result"
    }
   ],
   "source": [
    "df = pd.read_csv(r\"C:\\Users\\Carlo\\Repos\\TrainingsTool\\Tennis\\Datasets\\charting-m-points-from-2017-new.csv\", encoding=\"unicode_escape\", low_memory=False)\n",
    "len(df)"
   ]
  },
  {
   "cell_type": "code",
   "execution_count": 4,
   "metadata": {},
   "outputs": [
    {
     "data": {
      "text/plain": [
       "19324"
      ]
     },
     "execution_count": 4,
     "metadata": {},
     "output_type": "execute_result"
    }
   ],
   "source": [
    "len(df.loc[df[\"match_id\"].str.contains(\"Novak_Djokovic\", case = True)])"
   ]
  },
  {
   "cell_type": "code",
   "execution_count": 5,
   "metadata": {},
   "outputs": [
    {
     "data": {
      "text/plain": [
       "8734"
      ]
     },
     "execution_count": 5,
     "metadata": {},
     "output_type": "execute_result"
    }
   ],
   "source": [
    "len(df.loc[df[\"match_id\"].str.contains(\"Carlos_Alcaraz\", case = True)])"
   ]
  },
  {
   "cell_type": "code",
   "execution_count": 6,
   "metadata": {},
   "outputs": [
    {
     "data": {
      "text/plain": [
       "18464"
      ]
     },
     "execution_count": 6,
     "metadata": {},
     "output_type": "execute_result"
    }
   ],
   "source": [
    "len(df.loc[df[\"match_id\"].str.contains(\"Daniil_Medvedev\", case = True)])"
   ]
  },
  {
   "cell_type": "code",
   "execution_count": 7,
   "metadata": {},
   "outputs": [
    {
     "data": {
      "text/plain": [
       "16347"
      ]
     },
     "execution_count": 7,
     "metadata": {},
     "output_type": "execute_result"
    }
   ],
   "source": [
    "len(df.loc[df[\"match_id\"].str.contains(\"Rafael_Nadal\", case = True)])"
   ]
  },
  {
   "cell_type": "code",
   "execution_count": 8,
   "metadata": {},
   "outputs": [
    {
     "data": {
      "text/plain": [
       "19775"
      ]
     },
     "execution_count": 8,
     "metadata": {},
     "output_type": "execute_result"
    }
   ],
   "source": [
    "len(df.loc[df[\"match_id\"].str.contains(\"Roger_Federer\", case = True)])"
   ]
  },
  {
   "cell_type": "code",
   "execution_count": 9,
   "metadata": {},
   "outputs": [
    {
     "data": {
      "text/plain": [
       "8995"
      ]
     },
     "execution_count": 9,
     "metadata": {},
     "output_type": "execute_result"
    }
   ],
   "source": [
    "\n",
    "len(df.loc[df[\"match_id\"].str.contains(\"Jannik_Sinner\", case = True)])"
   ]
  },
  {
   "cell_type": "code",
   "execution_count": 10,
   "metadata": {},
   "outputs": [
    {
     "data": {
      "text/plain": [
       "9232"
      ]
     },
     "execution_count": 10,
     "metadata": {},
     "output_type": "execute_result"
    }
   ],
   "source": [
    "len(df.loc[df[\"match_id\"].str.contains(\"Andrey_Rublev\", case = True)])"
   ]
  },
  {
   "cell_type": "code",
   "execution_count": 11,
   "metadata": {},
   "outputs": [
    {
     "data": {
      "text/plain": [
       "15661"
      ]
     },
     "execution_count": 11,
     "metadata": {},
     "output_type": "execute_result"
    }
   ],
   "source": [
    "len(df.loc[df[\"match_id\"].str.contains(\"Stefanos_Tsitsipas\", case = True)])"
   ]
  },
  {
   "cell_type": "code",
   "execution_count": 12,
   "metadata": {},
   "outputs": [
    {
     "data": {
      "text/plain": [
       "12458"
      ]
     },
     "execution_count": 12,
     "metadata": {},
     "output_type": "execute_result"
    }
   ],
   "source": [
    "len(df.loc[df[\"match_id\"].str.contains(\"Alexander_Zverev\", case = True)])"
   ]
  },
  {
   "cell_type": "code",
   "execution_count": 13,
   "metadata": {},
   "outputs": [
    {
     "data": {
      "text/plain": [
       "6543"
      ]
     },
     "execution_count": 13,
     "metadata": {},
     "output_type": "execute_result"
    }
   ],
   "source": [
    "len(df.loc[df[\"match_id\"].str.contains(\"Hubert_Hurkacz\", case = True)])"
   ]
  },
  {
   "cell_type": "code",
   "execution_count": 14,
   "metadata": {},
   "outputs": [
    {
     "data": {
      "text/plain": [
       "7837"
      ]
     },
     "execution_count": 14,
     "metadata": {},
     "output_type": "execute_result"
    }
   ],
   "source": [
    "len(df.loc[df[\"match_id\"].str.contains(\"Casper_Ruud\", case = True)])"
   ]
  },
  {
   "cell_type": "code",
   "execution_count": 15,
   "metadata": {},
   "outputs": [
    {
     "data": {
      "text/plain": [
       "7522"
      ]
     },
     "execution_count": 15,
     "metadata": {},
     "output_type": "execute_result"
    }
   ],
   "source": [
    "len(df.loc[df[\"match_id\"].str.contains(\"Grigor_Dimitrov\", case = True)])"
   ]
  },
  {
   "cell_type": "code",
   "execution_count": 16,
   "metadata": {},
   "outputs": [
    {
     "data": {
      "text/plain": [
       "7293"
      ]
     },
     "execution_count": 16,
     "metadata": {},
     "output_type": "execute_result"
    }
   ],
   "source": [
    "len(df.loc[df[\"match_id\"].str.contains(\"Felix_Auger_Aliassime\", case = True)])"
   ]
  },
  {
   "cell_type": "code",
   "execution_count": 17,
   "metadata": {},
   "outputs": [
    {
     "data": {
      "text/plain": [
       "7478"
      ]
     },
     "execution_count": 17,
     "metadata": {},
     "output_type": "execute_result"
    }
   ],
   "source": [
    "len(df.loc[df[\"match_id\"].str.contains(\"Andy_Murray\", case = True)])"
   ]
  },
  {
   "cell_type": "code",
   "execution_count": 18,
   "metadata": {},
   "outputs": [
    {
     "data": {
      "text/plain": [
       "7163"
      ]
     },
     "execution_count": 18,
     "metadata": {},
     "output_type": "execute_result"
    }
   ],
   "source": [
    "len(df.loc[df[\"match_id\"].str.contains(\"Stan_Wawrinka\", case = True)])"
   ]
  },
  {
   "cell_type": "code",
   "execution_count": 19,
   "metadata": {},
   "outputs": [
    {
     "data": {
      "text/plain": [
       "8887"
      ]
     },
     "execution_count": 19,
     "metadata": {},
     "output_type": "execute_result"
    }
   ],
   "source": [
    "len(df.loc[df[\"match_id\"].str.contains(\"Gael_Monfils\", case = True)])"
   ]
  },
  {
   "cell_type": "code",
   "execution_count": 20,
   "metadata": {},
   "outputs": [
    {
     "data": {
      "text/plain": [
       "14699"
      ]
     },
     "execution_count": 20,
     "metadata": {},
     "output_type": "execute_result"
    }
   ],
   "source": [
    "len(df.loc[df[\"match_id\"].str.contains(\"Dominic_Thiem\", case = True)])"
   ]
  },
  {
   "cell_type": "code",
   "execution_count": 21,
   "metadata": {},
   "outputs": [
    {
     "data": {
      "text/plain": [
       "6845"
      ]
     },
     "execution_count": 21,
     "metadata": {},
     "output_type": "execute_result"
    }
   ],
   "source": [
    "len(df.loc[df[\"match_id\"].str.contains(\"John_Isner\", case = True)])"
   ]
  },
  {
   "cell_type": "code",
   "execution_count": 22,
   "metadata": {},
   "outputs": [
    {
     "data": {
      "text/plain": [
       "295353"
      ]
     },
     "execution_count": 22,
     "metadata": {},
     "output_type": "execute_result"
    }
   ],
   "source": [
    "len(df)"
   ]
  },
  {
   "cell_type": "code",
   "execution_count": 24,
   "metadata": {},
   "outputs": [
    {
     "data": {
      "text/plain": [
       "0         20221123-M-Davis_Cup_Finals-QF-Marin_Cilic-Pab...\n",
       "1         20221123-M-Davis_Cup_Finals-QF-Marin_Cilic-Pab...\n",
       "2         20221123-M-Davis_Cup_Finals-QF-Marin_Cilic-Pab...\n",
       "3         20221123-M-Davis_Cup_Finals-QF-Marin_Cilic-Pab...\n",
       "4         20221123-M-Davis_Cup_Finals-QF-Marin_Cilic-Pab...\n",
       "                                ...                        \n",
       "295348    20170102-M-Doha-R32-Vasek_Pospisil-Fernando_Ve...\n",
       "295349    20170102-M-Doha-R32-Vasek_Pospisil-Fernando_Ve...\n",
       "295350    20170102-M-Doha-R32-Vasek_Pospisil-Fernando_Ve...\n",
       "295351    20170102-M-Doha-R32-Vasek_Pospisil-Fernando_Ve...\n",
       "295352    20170102-M-Doha-R32-Vasek_Pospisil-Fernando_Ve...\n",
       "Name: match_id, Length: 295353, dtype: object"
      ]
     },
     "execution_count": 24,
     "metadata": {},
     "output_type": "execute_result"
    }
   ],
   "source": [
    "df_match_id = df[\"match_id\"]\n",
    "df_match_id"
   ]
  },
  {
   "cell_type": "code",
   "execution_count": 30,
   "metadata": {},
   "outputs": [
    {
     "data": {
      "text/plain": [
       "0         20221123-M-Davis_Cup_Finals-QF-Marin_Cilic-Pab...\n",
       "1         20221123-M-Davis_Cup_Finals-QF-Marin_Cilic-Pab...\n",
       "2         20221123-M-Davis_Cup_Finals-QF-Marin_Cilic-Pab...\n",
       "3         20221123-M-Davis_Cup_Finals-QF-Marin_Cilic-Pab...\n",
       "4         20221123-M-Davis_Cup_Finals-QF-Marin_Cilic-Pab...\n",
       "                                ...                        \n",
       "590702    [20170102, M, Doha, R32, Vasek_Pospisil, Ferna...\n",
       "590703    [20170102, M, Doha, R32, Vasek_Pospisil, Ferna...\n",
       "590704    [20170102, M, Doha, R32, Vasek_Pospisil, Ferna...\n",
       "590705    [20170102, M, Doha, R32, Vasek_Pospisil, Ferna...\n",
       "590706                                                  NaN\n",
       "Name: match_id, Length: 590707, dtype: object"
      ]
     },
     "execution_count": 30,
     "metadata": {},
     "output_type": "execute_result"
    }
   ],
   "source": [
    "df_match_id['new'] = df_match_id.str.split('-')\n",
    "\n",
    "# Explode the list to create separate rows for each value\n",
    "df_exploded = df_match_id.explode('new')\n",
    "\n",
    "# Reset index if needed\n",
    "df_exploded.reset_index(drop=True, inplace=True)\n",
    "\n",
    "# Display the resulting DataFrame\n",
    "df_exploded"
   ]
  },
  {
   "cell_type": "code",
   "execution_count": 31,
   "metadata": {},
   "outputs": [],
   "source": [
    "split_row_index = 295353\n",
    "\n",
    "# Split the DataFrame\n",
    "df_original = df_exploded.iloc[:split_row_index]\n",
    "df_new_stuff = df_exploded.iloc[split_row_index:]"
   ]
  },
  {
   "cell_type": "code",
   "execution_count": 33,
   "metadata": {},
   "outputs": [
    {
     "data": {
      "text/plain": [
       "295353    [20221123, M, Davis_Cup_Finals, QF, Marin_Cili...\n",
       "295354    [20221123, M, Davis_Cup_Finals, QF, Marin_Cili...\n",
       "295355    [20221123, M, Davis_Cup_Finals, QF, Marin_Cili...\n",
       "295356    [20221123, M, Davis_Cup_Finals, QF, Marin_Cili...\n",
       "295357    [20221123, M, Davis_Cup_Finals, QF, Marin_Cili...\n",
       "                                ...                        \n",
       "590702    [20170102, M, Doha, R32, Vasek_Pospisil, Ferna...\n",
       "590703    [20170102, M, Doha, R32, Vasek_Pospisil, Ferna...\n",
       "590704    [20170102, M, Doha, R32, Vasek_Pospisil, Ferna...\n",
       "590705    [20170102, M, Doha, R32, Vasek_Pospisil, Ferna...\n",
       "590706                                                  NaN\n",
       "Name: match_id, Length: 295354, dtype: object"
      ]
     },
     "execution_count": 33,
     "metadata": {},
     "output_type": "execute_result"
    }
   ],
   "source": [
    "df_new_stuff"
   ]
  },
  {
   "cell_type": "code",
   "execution_count": 34,
   "metadata": {},
   "outputs": [],
   "source": [
    "df_new_stuff = df_new_stuff.drop(df_new_stuff.index[-1])"
   ]
  },
  {
   "cell_type": "code",
   "execution_count": 35,
   "metadata": {},
   "outputs": [
    {
     "data": {
      "text/plain": [
       "295353    [20221123, M, Davis_Cup_Finals, QF, Marin_Cili...\n",
       "295354    [20221123, M, Davis_Cup_Finals, QF, Marin_Cili...\n",
       "295355    [20221123, M, Davis_Cup_Finals, QF, Marin_Cili...\n",
       "295356    [20221123, M, Davis_Cup_Finals, QF, Marin_Cili...\n",
       "295357    [20221123, M, Davis_Cup_Finals, QF, Marin_Cili...\n",
       "                                ...                        \n",
       "590701    [20170102, M, Doha, R32, Vasek_Pospisil, Ferna...\n",
       "590702    [20170102, M, Doha, R32, Vasek_Pospisil, Ferna...\n",
       "590703    [20170102, M, Doha, R32, Vasek_Pospisil, Ferna...\n",
       "590704    [20170102, M, Doha, R32, Vasek_Pospisil, Ferna...\n",
       "590705    [20170102, M, Doha, R32, Vasek_Pospisil, Ferna...\n",
       "Name: match_id, Length: 295353, dtype: object"
      ]
     },
     "execution_count": 35,
     "metadata": {},
     "output_type": "execute_result"
    }
   ],
   "source": [
    "df_new_stuff"
   ]
  },
  {
   "cell_type": "code",
   "execution_count": 36,
   "metadata": {},
   "outputs": [
    {
     "name": "stdout",
     "output_type": "stream",
     "text": [
      "                                                 match_id         0  1  \\\n",
      "295353  [20221123, M, Davis_Cup_Finals, QF, Marin_Cili...  20221123  M   \n",
      "295354  [20221123, M, Davis_Cup_Finals, QF, Marin_Cili...  20221123  M   \n",
      "295355  [20221123, M, Davis_Cup_Finals, QF, Marin_Cili...  20221123  M   \n",
      "295356  [20221123, M, Davis_Cup_Finals, QF, Marin_Cili...  20221123  M   \n",
      "295357  [20221123, M, Davis_Cup_Finals, QF, Marin_Cili...  20221123  M   \n",
      "...                                                   ...       ... ..   \n",
      "590701  [20170102, M, Doha, R32, Vasek_Pospisil, Ferna...  20170102  M   \n",
      "590702  [20170102, M, Doha, R32, Vasek_Pospisil, Ferna...  20170102  M   \n",
      "590703  [20170102, M, Doha, R32, Vasek_Pospisil, Ferna...  20170102  M   \n",
      "590704  [20170102, M, Doha, R32, Vasek_Pospisil, Ferna...  20170102  M   \n",
      "590705  [20170102, M, Doha, R32, Vasek_Pospisil, Ferna...  20170102  M   \n",
      "\n",
      "                       2    3               4                    5    6  \n",
      "295353  Davis_Cup_Finals   QF     Marin_Cilic  Pablo_Carreno_Busta  NaN  \n",
      "295354  Davis_Cup_Finals   QF     Marin_Cilic  Pablo_Carreno_Busta  NaN  \n",
      "295355  Davis_Cup_Finals   QF     Marin_Cilic  Pablo_Carreno_Busta  NaN  \n",
      "295356  Davis_Cup_Finals   QF     Marin_Cilic  Pablo_Carreno_Busta  NaN  \n",
      "295357  Davis_Cup_Finals   QF     Marin_Cilic  Pablo_Carreno_Busta  NaN  \n",
      "...                  ...  ...             ...                  ...  ...  \n",
      "590701              Doha  R32  Vasek_Pospisil    Fernando_Verdasco  NaN  \n",
      "590702              Doha  R32  Vasek_Pospisil    Fernando_Verdasco  NaN  \n",
      "590703              Doha  R32  Vasek_Pospisil    Fernando_Verdasco  NaN  \n",
      "590704              Doha  R32  Vasek_Pospisil    Fernando_Verdasco  NaN  \n",
      "590705              Doha  R32  Vasek_Pospisil    Fernando_Verdasco  NaN  \n",
      "\n",
      "[295353 rows x 8 columns]\n"
     ]
    }
   ],
   "source": [
    "df_split = df_new_stuff.apply(pd.Series)\n",
    "df_resulting = pd.concat([df_new_stuff, df_split], axis = 1)\n",
    "print(df_resulting)"
   ]
  },
  {
   "cell_type": "code",
   "execution_count": 47,
   "metadata": {},
   "outputs": [],
   "source": [
    "df_names_1 = df_resulting[4]\n",
    "df_names_2 = df_resulting[5]\n",
    "df_all_names = pd.concat([df_names_1, df_names_2], ignore_index=True)"
   ]
  },
  {
   "cell_type": "code",
   "execution_count": 45,
   "metadata": {},
   "outputs": [
    {
     "data": {
      "text/plain": [
       "4\n",
       "Novak_Djokovic        14660\n",
       "Rafael_Nadal          13068\n",
       "Stefanos_Tsitsipas    12048\n",
       "Roger_Federer         10920\n",
       "Casper_Ruud            6936\n",
       "                      ...  \n",
       "Dominik_Koepfer          93\n",
       "Filip_Horansky           91\n",
       "Jack_Draper              91\n",
       "Francisco_Llanes         90\n",
       "Victor_Estrella          82\n",
       "Name: count, Length: 323, dtype: int64"
      ]
     },
     "execution_count": 45,
     "metadata": {},
     "output_type": "execute_result"
    }
   ],
   "source": [
    "df_resulting[4].value_counts()"
   ]
  },
  {
   "cell_type": "code",
   "execution_count": 46,
   "metadata": {},
   "outputs": [
    {
     "data": {
      "text/plain": [
       "5\n",
       "Daniil_Medvedev         14143\n",
       "Alexander_Zverev         9295\n",
       "Roger_Federer            8855\n",
       "Dominic_Thiem            8689\n",
       "Nick_Kyrgios             8199\n",
       "                        ...  \n",
       "Billy_Harris               85\n",
       "Michael_Mmoh               85\n",
       "Michael_Geerts             84\n",
       "Carlos_Gimeno_Valero       79\n",
       "Saidalo_Saidkarimov        72\n",
       "Name: count, Length: 288, dtype: int64"
      ]
     },
     "execution_count": 46,
     "metadata": {},
     "output_type": "execute_result"
    }
   ],
   "source": [
    "df_resulting[5].value_counts()"
   ]
  },
  {
   "cell_type": "code",
   "execution_count": 50,
   "metadata": {},
   "outputs": [],
   "source": [
    "value_counts= df_all_names.value_counts()"
   ]
  },
  {
   "cell_type": "code",
   "execution_count": 51,
   "metadata": {},
   "outputs": [
    {
     "data": {
      "text/plain": [
       "Roger_Federer              19775\n",
       "Novak_Djokovic             18630\n",
       "Daniil_Medvedev            18267\n",
       "Rafael_Nadal               15792\n",
       "Stefanos_Tsitsipas         14820\n",
       "Dominic_Thiem              13611\n",
       "Alexander_Zverev           12105\n",
       "Nick_Kyrgios               11104\n",
       "Botic_Van_De_Zandschulp     9604\n",
       "Denis_Shapovalov            9166\n",
       "Name: count, dtype: int64"
      ]
     },
     "execution_count": 51,
     "metadata": {},
     "output_type": "execute_result"
    }
   ],
   "source": [
    "value_counts.head(10)"
   ]
  },
  {
   "cell_type": "code",
   "execution_count": 52,
   "metadata": {},
   "outputs": [
    {
     "data": {
      "text/plain": [
       "Roger_Federer           19775\n",
       "Novak_Djokovic          18630\n",
       "Daniil_Medvedev         18267\n",
       "Rafael_Nadal            15792\n",
       "Stefanos_Tsitsipas      14820\n",
       "                        ...  \n",
       "Billy_Harris               85\n",
       "Michael_Mmoh               85\n",
       "Michael_Geerts             84\n",
       "Carlos_Gimeno_Valero       79\n",
       "Saidalo_Saidkarimov        72\n",
       "Name: count, Length: 420, dtype: int64"
      ]
     },
     "execution_count": 52,
     "metadata": {},
     "output_type": "execute_result"
    }
   ],
   "source": [
    "value_counts"
   ]
  },
  {
   "cell_type": "code",
   "execution_count": null,
   "metadata": {},
   "outputs": [],
   "source": []
  }
 ],
 "metadata": {
  "kernelspec": {
   "display_name": "Python 3",
   "language": "python",
   "name": "python3"
  },
  "language_info": {
   "codemirror_mode": {
    "name": "ipython",
    "version": 3
   },
   "file_extension": ".py",
   "mimetype": "text/x-python",
   "name": "python",
   "nbconvert_exporter": "python",
   "pygments_lexer": "ipython3",
   "version": "3.11.7"
  }
 },
 "nbformat": 4,
 "nbformat_minor": 2
}
