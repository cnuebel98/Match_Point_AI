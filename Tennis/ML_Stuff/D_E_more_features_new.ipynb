{
 "cells": [
  {
   "cell_type": "code",
   "execution_count": 1,
   "metadata": {},
   "outputs": [],
   "source": [
    "import pandas as pd\n",
    "from sklearn.ensemble import RandomForestClassifier\n",
    "import matplotlib.pyplot as plt\n",
    "import numpy as np\n",
    "%matplotlib inline"
   ]
  },
  {
   "cell_type": "code",
   "execution_count": 2,
   "metadata": {},
   "outputs": [],
   "source": [
    "df = pd.read_csv(r\"C:\\Users\\carlo\\TrainingsTool\\Tennis\\Datasets\\charting-m-points-from-2017-new.csv\", encoding= 'unicode_escape', low_memory=False)"
   ]
  },
  {
   "cell_type": "code",
   "execution_count": 3,
   "metadata": {},
   "outputs": [],
   "source": [
    "# only take matches where a specific player played\n",
    "df = df.loc[df[\"match_id\"].str.contains(\"Novak_Djokovic\", case = True)]"
   ]
  },
  {
   "cell_type": "code",
   "execution_count": 4,
   "metadata": {},
   "outputs": [],
   "source": [
    "# only keep rows where Djoko is serving\n",
    "df = df[df.Serving == \"ND\"]"
   ]
  },
  {
   "cell_type": "code",
   "execution_count": 5,
   "metadata": {},
   "outputs": [],
   "source": [
    "df = df.drop([\"isAce\", \"Gm#\", \"match_id\", \"isUnret\", \"Svr\", \"Ret\", \"isRallyWinner\", \"isForced\", \"isUnforced\", \"isDouble\", \"Serving\", \"TBpt\",\"Notes\", \"1stSV\", \"2ndSV\", \"1stIn\", \"2ndIn\"], axis=1)"
   ]
  },
  {
   "cell_type": "code",
   "execution_count": 6,
   "metadata": {},
   "outputs": [],
   "source": [
    "df = df[[\"Pt\", \"Set1\", \"Set2\", \"Gm1\", \"Gm2\", \"Pts\", \"TbSet\", \"TB?\", \"PtWinner\", \"isSvrWinner\", \"rallyCount\", \"1st\", \"2nd\"]]"
   ]
  },
  {
   "cell_type": "code",
   "execution_count": 7,
   "metadata": {},
   "outputs": [],
   "source": [
    "# seperate the Pts column to create pts_A and pts_B, splitting at the \"-\" seperator\n",
    "df[[\"Pts1\", \"Pts2\"]] = df.Pts.str.split(\"-\", expand = True)"
   ]
  },
  {
   "cell_type": "code",
   "execution_count": 8,
   "metadata": {},
   "outputs": [],
   "source": [
    "df = df.drop(\"Pts\", axis=1)"
   ]
  },
  {
   "cell_type": "code",
   "execution_count": 9,
   "metadata": {},
   "outputs": [],
   "source": [
    "df = df[[\"Pt\", \"Set1\", \"Set2\", \"Gm1\", \"Gm2\", \"Pts1\", \"Pts2\", \"TbSet\", \"TB?\", \"PtWinner\", \"isSvrWinner\", \"rallyCount\", \"1st\", \"2nd\"]]"
   ]
  },
  {
   "cell_type": "code",
   "execution_count": 10,
   "metadata": {},
   "outputs": [],
   "source": [
    "# Now we need to translate \"AD\" in Pts1 and Pts2 to \"50\"\n",
    "columns = [\"Pts1\", \"Pts2\"]\n",
    "for i in columns:\n",
    "    df[str(i)] = df[str(i)].str.replace('AD', '50')"
   ]
  },
  {
   "cell_type": "code",
   "execution_count": 11,
   "metadata": {},
   "outputs": [],
   "source": [
    "df = df.reset_index(drop=True)"
   ]
  },
  {
   "cell_type": "code",
   "execution_count": 12,
   "metadata": {},
   "outputs": [],
   "source": [
    "test_df = df\n",
    "test_df = test_df.astype({\"1st\": str, \"2nd\": str})"
   ]
  },
  {
   "cell_type": "code",
   "execution_count": 13,
   "metadata": {},
   "outputs": [],
   "source": [
    " # join the two ralley colums together into one column with \",\" seperator\n",
    "test_df[\"1st&2nd\"] = test_df[[\"1st\", \"2nd\"]].apply(lambda x: \"\".join(x), axis=1)"
   ]
  },
  {
   "cell_type": "code",
   "execution_count": 14,
   "metadata": {},
   "outputs": [],
   "source": [
    "test_df = test_df.drop([\"1st\", \"2nd\"], axis = 1)"
   ]
  },
  {
   "cell_type": "code",
   "execution_count": 15,
   "metadata": {},
   "outputs": [],
   "source": [
    "ralley_df = test_df[\"1st&2nd\"]"
   ]
  },
  {
   "cell_type": "code",
   "execution_count": 16,
   "metadata": {},
   "outputs": [],
   "source": [
    "# creating a dataframe to store the shot_lists in\n",
    "shot_list_dataframe = pd.DataFrame()"
   ]
  },
  {
   "cell_type": "code",
   "execution_count": 17,
   "metadata": {},
   "outputs": [],
   "source": [
    "ralley_df_test = ralley_df.head(20)"
   ]
  },
  {
   "cell_type": "code",
   "execution_count": 18,
   "metadata": {},
   "outputs": [],
   "source": [
    "possible_shots = [\"f\", \"b\", \"r\", \"s\", \"v\", \"z\", \"o\", \"p\", \"y\", \"l\", \"m\", \"h\", \"i\", \"j\", \"k\", \"t\", \"u\"]\n",
    "serve_direction_second_serve = [\"4\", \"5\", \"6\"]\n",
    "len_of_longest_ralley = 0\n",
    "shot_list_dataframe = pd.DataFrame()\n",
    "\n",
    "# i is a ralley\n",
    "for i in ralley_df_test:\n",
    "    # Initializing new shot for each new ralley\n",
    "    shot = \"\"\n",
    "    shot_list = []\n",
    "    # every char in each ralley will be looked at\n",
    "    for char in range(0, len(i)):\n",
    "        # if the char is at position 3 in the ralley and its in serve direction list, its added to shot_list\n",
    "        if i[char] in serve_direction_second_serve and char == 2:\n",
    "            shot_list.append(shot)\n",
    "            shot = \"\"\n",
    "            shot = i[char]\n",
    "             \n",
    "        elif i[char] not in possible_shots and i[char] not in serve_direction_second_serve:\n",
    "            shot = shot + str(i[char])\n",
    "        # in all other cases, shot is done and appended to the shot_list\n",
    "        else:\n",
    "            shot_list.append(shot)\n",
    "            shot = str(i[char])\n",
    "    # the last shot has to be appended here, because it is not going into the loop again\n",
    "    shot_list.append(shot)\n",
    "\n",
    "    # if the last element of the shot list is \"nan\" we delete that because we dont want to predict \"nan\"\n",
    "    if shot_list[-1][-1] == \"n\" and shot_list[-1][-2] == \"a\"  and shot_list[-1][-3] == \"n\" :\n",
    "        shot_list[-1] = shot_list[-1].rstrip(shot_list[-1][-1])\n",
    "        shot_list[-1] = shot_list[-1].rstrip(shot_list[-1][-1])\n",
    "        shot_list[-1] = shot_list[-1].rstrip(shot_list[-1][-1])\n",
    "        \n",
    "    # finding the longest shot_list/ralley in the dataset\n",
    "    if len(shot_list) > len_of_longest_ralley:\n",
    "        len_of_longest_ralley = len(shot_list)\n",
    "\n",
    "    shot_list_series = pd.Series(shot_list)\n",
    "    shot_list_small_df = pd.DataFrame(shot_list)\n",
    "\n",
    "    # now the shot list is beautiful and can add it to the empyt shot_list_dataframe\n",
    "    shot_list_dataframe = pd.concat([shot_list_dataframe, shot_list_small_df], ignore_index=True, axis=1)\n",
    "\n",
    "df = shot_list_dataframe"
   ]
  },
  {
   "cell_type": "code",
   "execution_count": 19,
   "metadata": {},
   "outputs": [],
   "source": [
    "df = df.drop(0)\n",
    "df = df.reset_index()\n",
    "df = df.drop(\"index\", axis = 1)"
   ]
  },
  {
   "cell_type": "code",
   "execution_count": 20,
   "metadata": {},
   "outputs": [],
   "source": [
    "for i in range(0, len(ralley_df_test)):\n",
    "    ralley = ralley_df_test[i]\n",
    "    if ralley[-1] == \"n\" and ralley[-2] == \"a\" and ralley[-3] == \"n\":\n",
    "        ralley_df_test[i] = ralley_df_test[i].rstrip(ralley_df_test[i][-1])\n",
    "        ralley_df_test[i] = ralley_df_test[i].rstrip(ralley_df_test[i][-1])\n",
    "        ralley_df_test[i] = ralley_df_test[i].rstrip(ralley_df_test[i][-1])"
   ]
  },
  {
   "cell_type": "code",
   "execution_count": 21,
   "metadata": {},
   "outputs": [],
   "source": [
    "# df_each_char is created, each char is seperated into columns\n",
    "shot_list_dataframe = pd.DataFrame()\n",
    "\n",
    "# i is a ralley\n",
    "for i in ralley_df_test:\n",
    "    # Initializing new shot for each new ralley\n",
    "    shot = \"\"\n",
    "    shot_list = []\n",
    "    # every char in each ralley will be looked at\n",
    "    for char in range(0, len(i)):\n",
    "        shot = i[char]\n",
    "        shot_list.append(shot)\n",
    "        shot = \"\"\n",
    "        \n",
    "    # the last shot has to be appended here, because it is not going into the loop again\n",
    "    shot_list_series = pd.Series(shot_list)\n",
    "    shot_list_small_df = pd.DataFrame(shot_list)\n",
    "\n",
    "    # now the shot list is beautiful and can add it to the empyt shot_list_dataframe\n",
    "    shot_list_dataframe = pd.concat([shot_list_dataframe, shot_list_small_df], ignore_index=True, axis=1)\n",
    "\n",
    "df_each_char = shot_list_dataframe"
   ]
  },
  {
   "cell_type": "code",
   "execution_count": 24,
   "metadata": {},
   "outputs": [
    {
     "name": "stdout",
     "output_type": "stream",
     "text": [
      "<class 'pandas.core.frame.DataFrame'>\n",
      "RangeIndex: 26 entries, 0 to 25\n",
      "Data columns (total 20 columns):\n",
      " #   Column  Non-Null Count  Dtype \n",
      "---  ------  --------------  ----- \n",
      " 0   0       8 non-null      object\n",
      " 1   1       3 non-null      object\n",
      " 2   2       1 non-null      object\n",
      " 3   3       3 non-null      object\n",
      " 4   4       14 non-null     object\n",
      " 5   5       7 non-null      object\n",
      " 6   6       26 non-null     object\n",
      " 7   7       11 non-null     object\n",
      " 8   8       2 non-null      object\n",
      " 9   9       2 non-null      object\n",
      " 10  10      1 non-null      object\n",
      " 11  11      6 non-null      object\n",
      " 12  12      2 non-null      object\n",
      " 13  13      13 non-null     object\n",
      " 14  14      1 non-null      object\n",
      " 15  15      4 non-null      object\n",
      " 16  16      2 non-null      object\n",
      " 17  17      5 non-null      object\n",
      " 18  18      7 non-null      object\n",
      " 19  19      2 non-null      object\n",
      "dtypes: object(20)\n",
      "memory usage: 4.2+ KB\n"
     ]
    }
   ],
   "source": [
    "df.info()"
   ]
  },
  {
   "cell_type": "code",
   "execution_count": null,
   "metadata": {},
   "outputs": [],
   "source": []
  }
 ],
 "metadata": {
  "kernelspec": {
   "display_name": "Python 3",
   "language": "python",
   "name": "python3"
  },
  "language_info": {
   "codemirror_mode": {
    "name": "ipython",
    "version": 3
   },
   "file_extension": ".py",
   "mimetype": "text/x-python",
   "name": "python",
   "nbconvert_exporter": "python",
   "pygments_lexer": "ipython3",
   "version": "3.11.3"
  },
  "orig_nbformat": 4
 },
 "nbformat": 4,
 "nbformat_minor": 2
}
